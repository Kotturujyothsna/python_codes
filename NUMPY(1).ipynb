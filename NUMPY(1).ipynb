{
 "cells": [
  {
   "cell_type": "code",
   "execution_count": null,
   "id": "75a4b268-baa0-458d-91a5-e3bf44423c06",
   "metadata": {},
   "outputs": [],
   "source": [
    "numpy(#ASSIGNMENT)"
   ]
  },
  {
   "cell_type": "raw",
   "id": "1cb5bb15-9f8f-4939-b145-164ae51edb77",
   "metadata": {},
   "source": [
    "1. Create a list named ‘myList’ that has the following elements: 10, 20, 30,\n",
    "‘apple’, True, 8.10:\n",
    "a. Now in the ‘myList’, append these values: 30, 40\n",
    "b. After that, reverse the elements of the ‘myList’ and store that in\n",
    "‘reversedList’\n"
   ]
  },
  {
   "cell_type": "code",
   "execution_count": 1,
   "id": "d263d2be-afb4-4267-ab67-446f68a1a0da",
   "metadata": {},
   "outputs": [
    {
     "name": "stdout",
     "output_type": "stream",
     "text": [
      "Original List: [10, 20, 30, 'apple', True, 8.1, 30, 40]\n",
      "Reversed List: [40, 30, 8.1, True, 'apple', 30, 20, 10]\n"
     ]
    }
   ],
   "source": [
    "\n",
    "myList = [10, 20, 30, 'apple', True, 8.10]\n",
    "\n",
    "myList.append(30)\n",
    "myList.append(40)\n",
    "\n",
    "reversedList = myList[::-1]\n",
    "\n",
    "print(\"Original List:\", myList)\n",
    "print(\"Reversed List:\", reversedList)\n"
   ]
  },
  {
   "cell_type": "raw",
   "id": "0fc7d925-98aa-4fb3-b087-15e2f1f83859",
   "metadata": {},
   "source": [
    "2. Create a dictionary with key values as 1, 2, 3 and the values as ‘data’,\n",
    "‘information’ and ‘text’:\n",
    "a. After that, eliminate the ‘text’ value from the dictionary\n",
    "b. Add ‘features’ in the dictionary\n",
    "c. Fetch the ‘data’ element from the dictionary and display it in the output"
   ]
  },
  {
   "cell_type": "code",
   "execution_count": 2,
   "id": "31173aed-c37b-480d-9d2f-a8621d542a58",
   "metadata": {},
   "outputs": [
    {
     "name": "stdout",
     "output_type": "stream",
     "text": [
      "Modified Dictionary: {1: 'data', 2: 'information', 4: 'features'}\n",
      "Fetched element 'data': data\n"
     ]
    }
   ],
   "source": [
    "\n",
    "myDict = {1: 'data', 2: 'information', 3: 'text'}\n",
    "\n",
    "myDict.pop(3)\n",
    "myDict[4] = 'features'\n",
    "\n",
    "data_element = myDict[1]\n",
    "print(\"Modified Dictionary:\", myDict)\n",
    "print(\"Fetched element 'data':\", data_element)\n"
   ]
  },
  {
   "cell_type": "raw",
   "id": "53e493d4-2920-4591-b3b9-effdb9b29551",
   "metadata": {},
   "source": [
    "3. Create a tuple and add these elements 1, 2, 3, apple, mango in my_tuple.\n",
    "4. Create another tuple named numeric_tuple consisting of only integer\n",
    "values 10, 20, 30, 40, 50:\n",
    "a. Find the minimum value from the numeric_tuple\n",
    "b. Concatenate my_tuple with numeric_tuple and store the result in r1\n",
    "c. Duplicate the tuple named my_tuple 2 times and store that in ‘newdupli’"
   ]
  },
  {
   "cell_type": "code",
   "execution_count": 3,
   "id": "8bb7b0de-127f-4fa0-bfb5-f1ec7b566755",
   "metadata": {},
   "outputs": [
    {
     "name": "stdout",
     "output_type": "stream",
     "text": [
      "Minimum value in numeric_tuple: 10\n",
      "Concatenated tuple r1: (1, 2, 3, 'apple', 'mango', 10, 20, 30, 40, 50)\n",
      "Duplicated tuple newdupli: (1, 2, 3, 'apple', 'mango', 1, 2, 3, 'apple', 'mango')\n"
     ]
    }
   ],
   "source": [
    "\n",
    "my_tuple = (1, 2, 3, 'apple', 'mango')\n",
    "\n",
    "numeric_tuple = (10, 20, 30, 40, 50)\n",
    "\n",
    "min_value = min(numeric_tuple)\n",
    "print(\"Minimum value in numeric_tuple:\", min_value)\n",
    "\n",
    "r1 = my_tuple + numeric_tuple\n",
    "print(\"Concatenated tuple r1:\", r1)\n",
    "\n",
    "newdupli = my_tuple * 2\n",
    "print(\"Duplicated tuple newdupli:\", newdupli)\n"
   ]
  },
  {
   "cell_type": "raw",
   "id": "b414bc3b-185f-48ef-93aa-91bae99ddd2b",
   "metadata": {},
   "source": [
    "5. Create 2 sets with the names set1 and set2, where set1 contains\n",
    "{1,2,3,4,5} and set2 contains {2,3,7,6,1}\n",
    "Perform the below operation:\n",
    "a. set1 union set2\n",
    "b. set1 intersection set2\n",
    "c. set1 difference set2"
   ]
  },
  {
   "cell_type": "code",
   "execution_count": 4,
   "id": "b4d1343a-d3a9-4fdc-949f-202006060a94",
   "metadata": {},
   "outputs": [
    {
     "name": "stdout",
     "output_type": "stream",
     "text": [
      "Union of set1 and set2: {1, 2, 3, 4, 5, 6, 7}\n",
      "Intersection of set1 and set2: {1, 2, 3}\n",
      "Difference of set1 and set2 (set1 - set2): {4, 5}\n"
     ]
    }
   ],
   "source": [
    "set1 = {1, 2, 3, 4, 5}\n",
    "set2 = {2, 3, 7, 6, 1}\n",
    "\n",
    "union_set = set1.union(set2)\n",
    "intersection_set = set1.intersection(set2)\n",
    "difference_set = set1.difference(set2)\n",
    "\n",
    "print(\"Union of set1 and set2:\", union_set)\n",
    "print(\"Intersection of set1 and set2:\", intersection_set)\n",
    "print(\"Difference of set1 and set2 (set1 - set2):\", difference_set)"
   ]
  },
  {
   "cell_type": "code",
   "execution_count": null,
   "id": "556caa69-7fe8-4d8f-8bfc-2b8a1ec26b2e",
   "metadata": {},
   "outputs": [],
   "source": []
  }
 ],
 "metadata": {
  "kernelspec": {
   "display_name": "Python 3 (ipykernel)",
   "language": "python",
   "name": "python3"
  },
  "language_info": {
   "codemirror_mode": {
    "name": "ipython",
    "version": 3
   },
   "file_extension": ".py",
   "mimetype": "text/x-python",
   "name": "python",
   "nbconvert_exporter": "python",
   "pygments_lexer": "ipython3",
   "version": "3.11.7"
  }
 },
 "nbformat": 4,
 "nbformat_minor": 5
}
