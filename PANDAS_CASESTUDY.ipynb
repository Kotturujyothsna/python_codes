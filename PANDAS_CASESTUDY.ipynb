{
 "cells": [
  {
   "cell_type": "raw",
   "id": "02fb9341-f6db-47c0-a622-90dc89bab915",
   "metadata": {},
   "source": [
    "Tasks To Be Performed:\n",
    "1. Write a function that takes start and end of a range returns a pandas series\n",
    "object containing numbers within that range.\n",
    "In case the user does not pass start or end or both they should default to 1\n",
    "and 10 respectively. E.g:\n",
    "-> range_series() -> Should Return a pandas series from 1 to 10\n",
    "range_series(5) -> Should Return a pandas series from 5 to 10\n",
    "range_series(5, 10) -> Should Return a pandas series from 5 to 15\n",
    "Create a method that takes n NumPy arrays of the same dimensions,\n",
    "sums them and returns the answer."
   ]
  },
  {
   "cell_type": "code",
   "execution_count": 1,
   "id": "72f00a69-577e-425f-86f6-72bd901f758a",
   "metadata": {},
   "outputs": [],
   "source": [
    "import pandas as pd\n",
    "\n",
    "def range_series(start=1, end=10):\n",
    "     return pd.Series(range(start, end + 1))"
   ]
  },
  {
   "cell_type": "code",
   "execution_count": 3,
   "id": "f6fc06e5-f862-4d1c-b025-65b2400b0cea",
   "metadata": {},
   "outputs": [
    {
     "data": {
      "text/plain": [
       "0     1\n",
       "1     2\n",
       "2     3\n",
       "3     4\n",
       "4     5\n",
       "5     6\n",
       "6     7\n",
       "7     8\n",
       "8     9\n",
       "9    10\n",
       "dtype: int64"
      ]
     },
     "execution_count": 3,
     "metadata": {},
     "output_type": "execute_result"
    }
   ],
   "source": [
    "range_series()"
   ]
  },
  {
   "cell_type": "code",
   "execution_count": 5,
   "id": "26d5e7cb-503d-4b66-ac2e-627848a51116",
   "metadata": {},
   "outputs": [
    {
     "data": {
      "text/plain": [
       "0     5\n",
       "1     6\n",
       "2     7\n",
       "3     8\n",
       "4     9\n",
       "5    10\n",
       "dtype: int64"
      ]
     },
     "execution_count": 5,
     "metadata": {},
     "output_type": "execute_result"
    }
   ],
   "source": [
    "range_series(5)"
   ]
  },
  {
   "cell_type": "code",
   "execution_count": 6,
   "id": "6ce728f7-762e-49ad-acc1-433d61527437",
   "metadata": {},
   "outputs": [
    {
     "data": {
      "text/plain": [
       "0      5\n",
       "1      6\n",
       "2      7\n",
       "3      8\n",
       "4      9\n",
       "5     10\n",
       "6     11\n",
       "7     12\n",
       "8     13\n",
       "9     14\n",
       "10    15\n",
       "dtype: int64"
      ]
     },
     "execution_count": 6,
     "metadata": {},
     "output_type": "execute_result"
    }
   ],
   "source": [
    "range_series(5,15)"
   ]
  },
  {
   "cell_type": "raw",
   "id": "f4c07065-33cc-4d05-af24-821fce4a208c",
   "metadata": {},
   "source": [
    "2. Create a function that takes in two lists named keys and values as\n",
    "arguments\n",
    "Keys would be strings and contain n string values\n",
    "Values would be a list containing n lists\n",
    "The methods should return a new pandas DataFrame with keys as column\n",
    "names and values as their corresponding values, e.g:\n",
    "->create_dataframe([\"One\", \"Two\"], [[\"X\", \"Y\"], [\"A\", \"B\"]]) -> should return a\n",
    "data frame\n",
    "One Two\n",
    "0 X A\n",
    "1 Y B"
   ]
  },
  {
   "cell_type": "code",
   "execution_count": 7,
   "id": "996017b1-49d3-4649-8b45-1d32946c9766",
   "metadata": {},
   "outputs": [
    {
     "name": "stdout",
     "output_type": "stream",
     "text": [
      "  One Two\n",
      "0   X   A\n",
      "1   Y   B\n"
     ]
    }
   ],
   "source": [
    "\n",
    "def create_dataframe(keys, values):\n",
    "    df = pd.DataFrame(values, columns=keys)\n",
    "    return df\n",
    "\n",
    "keys = [\"One\", \"Two\"]\n",
    "values = [[\"X\", \"A\"], [\"Y\", \"B\"]]\n",
    "\n",
    "df = create_dataframe(keys, values)\n",
    "print(df)\n"
   ]
  },
  {
   "cell_type": "raw",
   "id": "48e21b62-6f05-4236-91e2-c3ffed29491b",
   "metadata": {},
   "source": [
    "3. Create a function that concatenates two DataFrames. Use a previously\n",
    "created function to create two DataFrames and pass them as parameters\n",
    "Make sure that the indexes are reset before returning."
   ]
  },
  {
   "cell_type": "code",
   "execution_count": 8,
   "id": "8cce7559-f569-4fd7-aff7-044f4bc29949",
   "metadata": {},
   "outputs": [
    {
     "name": "stdout",
     "output_type": "stream",
     "text": [
      "  One Two\n",
      "0   X   A\n",
      "1   Y   B\n",
      "2   M   C\n",
      "3   N   D\n"
     ]
    }
   ],
   "source": [
    "def concatenate_dataframes(df1, df2):\n",
    "   \n",
    "    concatenated_df = pd.concat([df1, df2], ignore_index=True)\n",
    "    \n",
    "    concatenated_df.reset_index(drop=True, inplace=True)\n",
    "    \n",
    "    return concatenated_df\n",
    "    \n",
    "keys1 = [\"One\", \"Two\"]\n",
    "values1 = [[\"X\", \"A\"], [\"Y\", \"B\"]]\n",
    "df1 = create_dataframe(keys1, values1)\n",
    "\n",
    "keys2 = [\"One\", \"Two\"]\n",
    "values2 = [[\"M\", \"C\"], [\"N\", \"D\"]]\n",
    "df2 = create_dataframe(keys2, values2)\n",
    "\n",
    "result_df = concatenate_dataframes(df1, df2)\n",
    "print(result_df)\n",
    "\n"
   ]
  },
  {
   "cell_type": "raw",
   "id": "eb871558-7d04-4c0a-a40b-a0fbb9c11fab",
   "metadata": {},
   "source": [
    "4. Write code to load data from cars.csv into a dataframe and print its details.\n",
    "Details like: 'count', 'mean', 'std', 'min', '25%', '50%', '75%', 'max'."
   ]
  },
  {
   "cell_type": "code",
   "execution_count": 9,
   "id": "a38882b0-1d5f-4b0c-8410-73f588202122",
   "metadata": {},
   "outputs": [],
   "source": [
    "df = pd.read_csv('cars.csv')"
   ]
  },
  {
   "cell_type": "code",
   "execution_count": 10,
   "id": "643fba06-670b-425f-b852-30b9a1264988",
   "metadata": {},
   "outputs": [
    {
     "data": {
      "text/html": [
       "<div>\n",
       "<style scoped>\n",
       "    .dataframe tbody tr th:only-of-type {\n",
       "        vertical-align: middle;\n",
       "    }\n",
       "\n",
       "    .dataframe tbody tr th {\n",
       "        vertical-align: top;\n",
       "    }\n",
       "\n",
       "    .dataframe thead th {\n",
       "        text-align: right;\n",
       "    }\n",
       "</style>\n",
       "<table border=\"1\" class=\"dataframe\">\n",
       "  <thead>\n",
       "    <tr style=\"text-align: right;\">\n",
       "      <th></th>\n",
       "      <th>mpg</th>\n",
       "      <th>cylinders</th>\n",
       "      <th>cubicinches</th>\n",
       "      <th>hp</th>\n",
       "      <th>weightlbs</th>\n",
       "      <th>time-to-60</th>\n",
       "      <th>year</th>\n",
       "      <th>brand</th>\n",
       "    </tr>\n",
       "  </thead>\n",
       "  <tbody>\n",
       "    <tr>\n",
       "      <th>0</th>\n",
       "      <td>14.0</td>\n",
       "      <td>8</td>\n",
       "      <td>350</td>\n",
       "      <td>165</td>\n",
       "      <td>4209</td>\n",
       "      <td>12</td>\n",
       "      <td>1972</td>\n",
       "      <td>US.</td>\n",
       "    </tr>\n",
       "    <tr>\n",
       "      <th>1</th>\n",
       "      <td>31.9</td>\n",
       "      <td>4</td>\n",
       "      <td>89</td>\n",
       "      <td>71</td>\n",
       "      <td>1925</td>\n",
       "      <td>14</td>\n",
       "      <td>1980</td>\n",
       "      <td>Europe.</td>\n",
       "    </tr>\n",
       "    <tr>\n",
       "      <th>2</th>\n",
       "      <td>17.0</td>\n",
       "      <td>8</td>\n",
       "      <td>302</td>\n",
       "      <td>140</td>\n",
       "      <td>3449</td>\n",
       "      <td>11</td>\n",
       "      <td>1971</td>\n",
       "      <td>US.</td>\n",
       "    </tr>\n",
       "    <tr>\n",
       "      <th>3</th>\n",
       "      <td>15.0</td>\n",
       "      <td>8</td>\n",
       "      <td>400</td>\n",
       "      <td>150</td>\n",
       "      <td>3761</td>\n",
       "      <td>10</td>\n",
       "      <td>1971</td>\n",
       "      <td>US.</td>\n",
       "    </tr>\n",
       "    <tr>\n",
       "      <th>4</th>\n",
       "      <td>30.5</td>\n",
       "      <td>4</td>\n",
       "      <td>98</td>\n",
       "      <td>63</td>\n",
       "      <td>2051</td>\n",
       "      <td>17</td>\n",
       "      <td>1978</td>\n",
       "      <td>US.</td>\n",
       "    </tr>\n",
       "    <tr>\n",
       "      <th>...</th>\n",
       "      <td>...</td>\n",
       "      <td>...</td>\n",
       "      <td>...</td>\n",
       "      <td>...</td>\n",
       "      <td>...</td>\n",
       "      <td>...</td>\n",
       "      <td>...</td>\n",
       "      <td>...</td>\n",
       "    </tr>\n",
       "    <tr>\n",
       "      <th>256</th>\n",
       "      <td>17.0</td>\n",
       "      <td>8</td>\n",
       "      <td>305</td>\n",
       "      <td>130</td>\n",
       "      <td>3840</td>\n",
       "      <td>15</td>\n",
       "      <td>1980</td>\n",
       "      <td>US.</td>\n",
       "    </tr>\n",
       "    <tr>\n",
       "      <th>257</th>\n",
       "      <td>36.1</td>\n",
       "      <td>4</td>\n",
       "      <td>91</td>\n",
       "      <td>60</td>\n",
       "      <td>1800</td>\n",
       "      <td>16</td>\n",
       "      <td>1979</td>\n",
       "      <td>Japan.</td>\n",
       "    </tr>\n",
       "    <tr>\n",
       "      <th>258</th>\n",
       "      <td>22.0</td>\n",
       "      <td>6</td>\n",
       "      <td>232</td>\n",
       "      <td>112</td>\n",
       "      <td>2835</td>\n",
       "      <td>15</td>\n",
       "      <td>1983</td>\n",
       "      <td>US.</td>\n",
       "    </tr>\n",
       "    <tr>\n",
       "      <th>259</th>\n",
       "      <td>18.0</td>\n",
       "      <td>6</td>\n",
       "      <td>232</td>\n",
       "      <td>100</td>\n",
       "      <td>3288</td>\n",
       "      <td>16</td>\n",
       "      <td>1972</td>\n",
       "      <td>US.</td>\n",
       "    </tr>\n",
       "    <tr>\n",
       "      <th>260</th>\n",
       "      <td>22.0</td>\n",
       "      <td>6</td>\n",
       "      <td>250</td>\n",
       "      <td>105</td>\n",
       "      <td>3353</td>\n",
       "      <td>15</td>\n",
       "      <td>1977</td>\n",
       "      <td>US.</td>\n",
       "    </tr>\n",
       "  </tbody>\n",
       "</table>\n",
       "<p>261 rows × 8 columns</p>\n",
       "</div>"
      ],
      "text/plain": [
       "      mpg  cylinders cubicinches   hp weightlbs  time-to-60  year     brand\n",
       "0    14.0          8         350  165      4209          12  1972       US.\n",
       "1    31.9          4          89   71      1925          14  1980   Europe.\n",
       "2    17.0          8         302  140      3449          11  1971       US.\n",
       "3    15.0          8         400  150      3761          10  1971       US.\n",
       "4    30.5          4          98   63      2051          17  1978       US.\n",
       "..    ...        ...         ...  ...       ...         ...   ...       ...\n",
       "256  17.0          8         305  130      3840          15  1980       US.\n",
       "257  36.1          4          91   60      1800          16  1979    Japan.\n",
       "258  22.0          6         232  112      2835          15  1983       US.\n",
       "259  18.0          6         232  100      3288          16  1972       US.\n",
       "260  22.0          6         250  105      3353          15  1977       US.\n",
       "\n",
       "[261 rows x 8 columns]"
      ]
     },
     "execution_count": 10,
     "metadata": {},
     "output_type": "execute_result"
    }
   ],
   "source": [
    "df"
   ]
  },
  {
   "cell_type": "code",
   "execution_count": 16,
   "id": "d8a67866-ae91-4265-aa88-dd0290175ba9",
   "metadata": {},
   "outputs": [
    {
     "name": "stdout",
     "output_type": "stream",
     "text": [
      "Statistical Details:\n",
      "               mpg   cylinders cubicinches          hp weightlbs  time-to-60  \\\n",
      "count   261.000000  261.000000         261  261.000000       261  261.000000   \n",
      "unique         NaN         NaN          75         NaN       240         NaN   \n",
      "top            NaN         NaN          97         NaN                   NaN   \n",
      "freq           NaN         NaN          16         NaN         3         NaN   \n",
      "mean     23.144828    5.590038         NaN  106.360153       NaN   15.547893   \n",
      "std       7.823570    1.733310         NaN   40.499959       NaN    2.910625   \n",
      "min      10.000000    3.000000         NaN   46.000000       NaN    8.000000   \n",
      "25%      16.900000    4.000000         NaN   75.000000       NaN   14.000000   \n",
      "50%      22.000000    6.000000         NaN   95.000000       NaN   16.000000   \n",
      "75%      28.800000    8.000000         NaN  138.000000       NaN   17.000000   \n",
      "max      46.600000    8.000000         NaN  230.000000       NaN   25.000000   \n",
      "\n",
      "               year brand  \n",
      "count    261.000000   261  \n",
      "unique          NaN     3  \n",
      "top             NaN   US.  \n",
      "freq            NaN   162  \n",
      "mean    1976.819923   NaN  \n",
      "std        3.637696   NaN  \n",
      "min     1971.000000   NaN  \n",
      "25%     1974.000000   NaN  \n",
      "50%     1977.000000   NaN  \n",
      "75%     1980.000000   NaN  \n",
      "max     1983.000000   NaN  \n"
     ]
    }
   ],
   "source": [
    "print(\"Statistical Details:\")\n",
    "print(df.describe(include='all')) "
   ]
  },
  {
   "cell_type": "code",
   "execution_count": 17,
   "id": "baa42a63-fe51-4a9c-8934-44ed86f5dbe4",
   "metadata": {},
   "outputs": [
    {
     "name": "stdout",
     "output_type": "stream",
     "text": [
      "\n",
      "Numeric Statistical Details:\n",
      "              mpg   cylinders          hp  time-to-60         year\n",
      "count  261.000000  261.000000  261.000000  261.000000   261.000000\n",
      "mean    23.144828    5.590038  106.360153   15.547893  1976.819923\n",
      "std      7.823570    1.733310   40.499959    2.910625     3.637696\n",
      "min     10.000000    3.000000   46.000000    8.000000  1971.000000\n",
      "25%     16.900000    4.000000   75.000000   14.000000  1974.000000\n",
      "50%     22.000000    6.000000   95.000000   16.000000  1977.000000\n",
      "75%     28.800000    8.000000  138.000000   17.000000  1980.000000\n",
      "max     46.600000    8.000000  230.000000   25.000000  1983.000000\n"
     ]
    }
   ],
   "source": [
    "print(\"\\nNumeric Statistical Details:\")\n",
    "print(df.describe())"
   ]
  },
  {
   "cell_type": "raw",
   "id": "f77d6c66-1cad-4319-b258-d958cae171ea",
   "metadata": {},
   "source": [
    "5. Write a method that will take a column name as argument and return the\n",
    "name of the column with which the given column has the highest\n",
    "correlation.\n",
    "The data to be used is the cars dataset.\n",
    "The returned value should not the column named that was passed as the\n",
    "parameters, e.g. : get_max_correlated_column('mpg') -> should return 'drat"
   ]
  },
  {
   "cell_type": "code",
   "execution_count": 21,
   "id": "75e36619-3fcb-4a33-8eae-e04338682bfe",
   "metadata": {},
   "outputs": [
    {
     "name": "stdout",
     "output_type": "stream",
     "text": [
      "Column with the highest correlation to 'mpg': year\n"
     ]
    }
   ],
   "source": [
    "def get_max_correlated_column(df, column_name):\n",
    "   \n",
    "    df_numeric = df.apply(pd.to_numeric, errors='coerce')\n",
    "    \n",
    "    if column_name not in df_numeric.columns:\n",
    "        raise ValueError(f\"Column '{column_name}' does not exist in the DataFrame.\")\n",
    "    \n",
    "    corr_matrix = df_numeric.corr()\n",
    "    \n",
    "    correlations = corr_matrix[column_name]\n",
    "    \n",
    "    highest_corr_column = correlations.drop(column_name).idxmax()\n",
    "    \n",
    "    return highest_corr_column\n",
    "\n",
    "max_corr_column = get_max_correlated_column(df, 'mpg')\n",
    "print(f\"Column with the highest correlation to 'mpg': {max_corr_column}\")\n"
   ]
  },
  {
   "cell_type": "code",
   "execution_count": null,
   "id": "379b80a8-97a3-4da2-b084-cf1089d9fe5d",
   "metadata": {},
   "outputs": [],
   "source": []
  }
 ],
 "metadata": {
  "kernelspec": {
   "display_name": "Python 3 (ipykernel)",
   "language": "python",
   "name": "python3"
  },
  "language_info": {
   "codemirror_mode": {
    "name": "ipython",
    "version": 3
   },
   "file_extension": ".py",
   "mimetype": "text/x-python",
   "name": "python",
   "nbconvert_exporter": "python",
   "pygments_lexer": "ipython3",
   "version": "3.11.7"
  }
 },
 "nbformat": 4,
 "nbformat_minor": 5
}
