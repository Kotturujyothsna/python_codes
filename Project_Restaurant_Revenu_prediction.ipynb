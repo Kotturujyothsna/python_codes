{
 "cells": [
  {
   "cell_type": "code",
   "execution_count": null,
   "id": "1eb77b35-2de0-493f-8d24-08d614d2802c",
   "metadata": {},
   "outputs": [],
   "source": [
    "project"
   ]
  },
  {
   "cell_type": "code",
   "execution_count": null,
   "id": "6feae7ed-6abc-4bab-a2c7-165705e14e55",
   "metadata": {},
   "outputs": [],
   "source": []
  },
  {
   "cell_type": "code",
   "execution_count": 1,
   "id": "133e6908-b1ce-4ad7-bc31-1e09008ed48e",
   "metadata": {},
   "outputs": [],
   "source": [
    "import pandas as pd\n",
    "\n",
    "df = pd.read_csv('revenue_prediction.csv')"
   ]
  },
  {
   "cell_type": "code",
   "execution_count": 2,
   "id": "99dba0db-271c-4bf7-873c-f4503d55831c",
   "metadata": {},
   "outputs": [
    {
     "data": {
      "text/html": [
       "<div>\n",
       "<style scoped>\n",
       "    .dataframe tbody tr th:only-of-type {\n",
       "        vertical-align: middle;\n",
       "    }\n",
       "\n",
       "    .dataframe tbody tr th {\n",
       "        vertical-align: top;\n",
       "    }\n",
       "\n",
       "    .dataframe thead th {\n",
       "        text-align: right;\n",
       "    }\n",
       "</style>\n",
       "<table border=\"1\" class=\"dataframe\">\n",
       "  <thead>\n",
       "    <tr style=\"text-align: right;\">\n",
       "      <th></th>\n",
       "      <th>Id</th>\n",
       "      <th>Name</th>\n",
       "      <th>Franchise</th>\n",
       "      <th>Category</th>\n",
       "      <th>City</th>\n",
       "      <th>No_Of_Item</th>\n",
       "      <th>Order_Placed</th>\n",
       "      <th>Revenue</th>\n",
       "    </tr>\n",
       "  </thead>\n",
       "  <tbody>\n",
       "    <tr>\n",
       "      <th>0</th>\n",
       "      <td>101</td>\n",
       "      <td>HungryHowie'sPizza</td>\n",
       "      <td>Yes</td>\n",
       "      <td>Mexican</td>\n",
       "      <td>Bengaluru</td>\n",
       "      <td>55</td>\n",
       "      <td>5.5</td>\n",
       "      <td>5953753</td>\n",
       "    </tr>\n",
       "    <tr>\n",
       "      <th>1</th>\n",
       "      <td>102</td>\n",
       "      <td>CharleysPhillySteaks</td>\n",
       "      <td>No</td>\n",
       "      <td>Varied Menu</td>\n",
       "      <td>Gurugram</td>\n",
       "      <td>72</td>\n",
       "      <td>6.8</td>\n",
       "      <td>7223131</td>\n",
       "    </tr>\n",
       "    <tr>\n",
       "      <th>2</th>\n",
       "      <td>103</td>\n",
       "      <td>Chuy's</td>\n",
       "      <td>Yes</td>\n",
       "      <td>Chicken</td>\n",
       "      <td>Pune</td>\n",
       "      <td>25</td>\n",
       "      <td>1.9</td>\n",
       "      <td>2555379</td>\n",
       "    </tr>\n",
       "    <tr>\n",
       "      <th>3</th>\n",
       "      <td>104</td>\n",
       "      <td>O'Charley's</td>\n",
       "      <td>Yes</td>\n",
       "      <td>Italian/Pizza</td>\n",
       "      <td>Mumbai</td>\n",
       "      <td>18</td>\n",
       "      <td>2.5</td>\n",
       "      <td>2175511</td>\n",
       "    </tr>\n",
       "    <tr>\n",
       "      <th>4</th>\n",
       "      <td>105</td>\n",
       "      <td>PolloTropical</td>\n",
       "      <td>Yes</td>\n",
       "      <td>Pizza</td>\n",
       "      <td>Noida</td>\n",
       "      <td>48</td>\n",
       "      <td>4.2</td>\n",
       "      <td>4816715</td>\n",
       "    </tr>\n",
       "    <tr>\n",
       "      <th>...</th>\n",
       "      <td>...</td>\n",
       "      <td>...</td>\n",
       "      <td>...</td>\n",
       "      <td>...</td>\n",
       "      <td>...</td>\n",
       "      <td>...</td>\n",
       "      <td>...</td>\n",
       "      <td>...</td>\n",
       "    </tr>\n",
       "    <tr>\n",
       "      <th>95</th>\n",
       "      <td>196</td>\n",
       "      <td>Wetzel'sPretzels</td>\n",
       "      <td>No</td>\n",
       "      <td>Italian/Pizza</td>\n",
       "      <td>Bengaluru</td>\n",
       "      <td>19</td>\n",
       "      <td>1.1</td>\n",
       "      <td>1270499</td>\n",
       "    </tr>\n",
       "    <tr>\n",
       "      <th>96</th>\n",
       "      <td>197</td>\n",
       "      <td>LaMadeleineCountryFrenchCafe</td>\n",
       "      <td>Yes</td>\n",
       "      <td>Varied Menu</td>\n",
       "      <td>Bengaluru</td>\n",
       "      <td>75</td>\n",
       "      <td>6.3</td>\n",
       "      <td>6412623</td>\n",
       "    </tr>\n",
       "    <tr>\n",
       "      <th>97</th>\n",
       "      <td>198</td>\n",
       "      <td>Giordano's</td>\n",
       "      <td>Yes</td>\n",
       "      <td>Varied Menu</td>\n",
       "      <td>Gurugram</td>\n",
       "      <td>77</td>\n",
       "      <td>6.2</td>\n",
       "      <td>6694797</td>\n",
       "    </tr>\n",
       "    <tr>\n",
       "      <th>98</th>\n",
       "      <td>199</td>\n",
       "      <td>IslandsFineBurgers&amp;Drinks</td>\n",
       "      <td>Yes</td>\n",
       "      <td>Sports Bar</td>\n",
       "      <td>Pune</td>\n",
       "      <td>25</td>\n",
       "      <td>2.1</td>\n",
       "      <td>2344689</td>\n",
       "    </tr>\n",
       "    <tr>\n",
       "      <th>99</th>\n",
       "      <td>200</td>\n",
       "      <td>Mimi'sBistro&amp;Bakery</td>\n",
       "      <td>No</td>\n",
       "      <td>BBQ</td>\n",
       "      <td>Mumbai</td>\n",
       "      <td>50</td>\n",
       "      <td>4.4</td>\n",
       "      <td>4567678</td>\n",
       "    </tr>\n",
       "  </tbody>\n",
       "</table>\n",
       "<p>100 rows × 8 columns</p>\n",
       "</div>"
      ],
      "text/plain": [
       "     Id                          Name Franchise       Category       City  \\\n",
       "0   101            HungryHowie'sPizza       Yes        Mexican  Bengaluru   \n",
       "1   102          CharleysPhillySteaks        No    Varied Menu   Gurugram   \n",
       "2   103                        Chuy's       Yes        Chicken       Pune   \n",
       "3   104                   O'Charley's       Yes  Italian/Pizza     Mumbai   \n",
       "4   105                 PolloTropical       Yes          Pizza      Noida   \n",
       "..  ...                           ...       ...            ...        ...   \n",
       "95  196              Wetzel'sPretzels        No  Italian/Pizza  Bengaluru   \n",
       "96  197  LaMadeleineCountryFrenchCafe       Yes    Varied Menu  Bengaluru   \n",
       "97  198                    Giordano's       Yes    Varied Menu   Gurugram   \n",
       "98  199     IslandsFineBurgers&Drinks       Yes     Sports Bar       Pune   \n",
       "99  200           Mimi'sBistro&Bakery        No            BBQ     Mumbai   \n",
       "\n",
       "    No_Of_Item  Order_Placed  Revenue  \n",
       "0           55           5.5  5953753  \n",
       "1           72           6.8  7223131  \n",
       "2           25           1.9  2555379  \n",
       "3           18           2.5  2175511  \n",
       "4           48           4.2  4816715  \n",
       "..         ...           ...      ...  \n",
       "95          19           1.1  1270499  \n",
       "96          75           6.3  6412623  \n",
       "97          77           6.2  6694797  \n",
       "98          25           2.1  2344689  \n",
       "99          50           4.4  4567678  \n",
       "\n",
       "[100 rows x 8 columns]"
      ]
     },
     "execution_count": 2,
     "metadata": {},
     "output_type": "execute_result"
    }
   ],
   "source": [
    "df"
   ]
  },
  {
   "cell_type": "code",
   "execution_count": 3,
   "id": "e86dffd0-9f10-4f77-9fe5-ca263bff66a5",
   "metadata": {},
   "outputs": [
    {
     "data": {
      "text/plain": [
       "Id              0\n",
       "Name            0\n",
       "Franchise       0\n",
       "Category        0\n",
       "City            0\n",
       "No_Of_Item      0\n",
       "Order_Placed    0\n",
       "Revenue         0\n",
       "dtype: int64"
      ]
     },
     "execution_count": 3,
     "metadata": {},
     "output_type": "execute_result"
    }
   ],
   "source": [
    "df.isnull().sum()"
   ]
  },
  {
   "cell_type": "code",
   "execution_count": 4,
   "id": "74651cac-f3aa-46df-81f0-9c39be3b5e52",
   "metadata": {},
   "outputs": [],
   "source": [
    "df=df.drop(columns=[\"Id\",\"Name\",\"Franchise\",\"Category\",\"City\",\"No_Of_Item\"])"
   ]
  },
  {
   "cell_type": "code",
   "execution_count": 5,
   "id": "6de06843-8127-4230-a8a3-83ba5fc9862a",
   "metadata": {},
   "outputs": [
    {
     "data": {
      "text/html": [
       "<div>\n",
       "<style scoped>\n",
       "    .dataframe tbody tr th:only-of-type {\n",
       "        vertical-align: middle;\n",
       "    }\n",
       "\n",
       "    .dataframe tbody tr th {\n",
       "        vertical-align: top;\n",
       "    }\n",
       "\n",
       "    .dataframe thead th {\n",
       "        text-align: right;\n",
       "    }\n",
       "</style>\n",
       "<table border=\"1\" class=\"dataframe\">\n",
       "  <thead>\n",
       "    <tr style=\"text-align: right;\">\n",
       "      <th></th>\n",
       "      <th>Order_Placed</th>\n",
       "      <th>Revenue</th>\n",
       "    </tr>\n",
       "  </thead>\n",
       "  <tbody>\n",
       "    <tr>\n",
       "      <th>0</th>\n",
       "      <td>5.5</td>\n",
       "      <td>5953753</td>\n",
       "    </tr>\n",
       "    <tr>\n",
       "      <th>1</th>\n",
       "      <td>6.8</td>\n",
       "      <td>7223131</td>\n",
       "    </tr>\n",
       "    <tr>\n",
       "      <th>2</th>\n",
       "      <td>1.9</td>\n",
       "      <td>2555379</td>\n",
       "    </tr>\n",
       "    <tr>\n",
       "      <th>3</th>\n",
       "      <td>2.5</td>\n",
       "      <td>2175511</td>\n",
       "    </tr>\n",
       "    <tr>\n",
       "      <th>4</th>\n",
       "      <td>4.2</td>\n",
       "      <td>4816715</td>\n",
       "    </tr>\n",
       "    <tr>\n",
       "      <th>...</th>\n",
       "      <td>...</td>\n",
       "      <td>...</td>\n",
       "    </tr>\n",
       "    <tr>\n",
       "      <th>95</th>\n",
       "      <td>1.1</td>\n",
       "      <td>1270499</td>\n",
       "    </tr>\n",
       "    <tr>\n",
       "      <th>96</th>\n",
       "      <td>6.3</td>\n",
       "      <td>6412623</td>\n",
       "    </tr>\n",
       "    <tr>\n",
       "      <th>97</th>\n",
       "      <td>6.2</td>\n",
       "      <td>6694797</td>\n",
       "    </tr>\n",
       "    <tr>\n",
       "      <th>98</th>\n",
       "      <td>2.1</td>\n",
       "      <td>2344689</td>\n",
       "    </tr>\n",
       "    <tr>\n",
       "      <th>99</th>\n",
       "      <td>4.4</td>\n",
       "      <td>4567678</td>\n",
       "    </tr>\n",
       "  </tbody>\n",
       "</table>\n",
       "<p>100 rows × 2 columns</p>\n",
       "</div>"
      ],
      "text/plain": [
       "    Order_Placed  Revenue\n",
       "0            5.5  5953753\n",
       "1            6.8  7223131\n",
       "2            1.9  2555379\n",
       "3            2.5  2175511\n",
       "4            4.2  4816715\n",
       "..           ...      ...\n",
       "95           1.1  1270499\n",
       "96           6.3  6412623\n",
       "97           6.2  6694797\n",
       "98           2.1  2344689\n",
       "99           4.4  4567678\n",
       "\n",
       "[100 rows x 2 columns]"
      ]
     },
     "execution_count": 5,
     "metadata": {},
     "output_type": "execute_result"
    }
   ],
   "source": [
    "df"
   ]
  },
  {
   "cell_type": "code",
   "execution_count": 6,
   "id": "406d52a8-b4c8-45d9-8371-ae164dbbee6a",
   "metadata": {},
   "outputs": [],
   "source": [
    "x=df.iloc[:,:-1].values\n",
    "y=df.iloc[:,-1].values "
   ]
  },
  {
   "cell_type": "code",
   "execution_count": 7,
   "id": "5898e4e6-e8ed-4e12-9ebf-95e4e7b07772",
   "metadata": {},
   "outputs": [
    {
     "data": {
      "text/plain": [
       "array([[ 5.5],\n",
       "       [ 6.8],\n",
       "       [ 1.9],\n",
       "       [ 2.5],\n",
       "       [ 4.2],\n",
       "       [ 4.9],\n",
       "       [ 5. ],\n",
       "       [ 4.3],\n",
       "       [ 4.8],\n",
       "       [ 5.3],\n",
       "       [ 3.6],\n",
       "       [ 5. ],\n",
       "       [ 1.6],\n",
       "       [ 4.7],\n",
       "       [ 1.8],\n",
       "       [ 3.1],\n",
       "       [10.8],\n",
       "       [ 8.1],\n",
       "       [ 5.2],\n",
       "       [ 1.9],\n",
       "       [ 5.4],\n",
       "       [ 1. ],\n",
       "       [ 3.8],\n",
       "       [ 2.8],\n",
       "       [ 8.8],\n",
       "       [ 3.6],\n",
       "       [ 2.1],\n",
       "       [ 5.3],\n",
       "       [ 4.6],\n",
       "       [ 3.3],\n",
       "       [ 2.9],\n",
       "       [ 1.9],\n",
       "       [ 3.1],\n",
       "       [ 2.2],\n",
       "       [ 4. ],\n",
       "       [ 3.6],\n",
       "       [ 2.8],\n",
       "       [ 2.6],\n",
       "       [ 5.3],\n",
       "       [ 3.7],\n",
       "       [ 6.7],\n",
       "       [ 4.4],\n",
       "       [ 4.8],\n",
       "       [ 2.6],\n",
       "       [ 4. ],\n",
       "       [ 3.6],\n",
       "       [ 4.1],\n",
       "       [ 7.7],\n",
       "       [ 7.1],\n",
       "       [ 8.5],\n",
       "       [ 1.9],\n",
       "       [ 3.1],\n",
       "       [ 1.6],\n",
       "       [ 5.4],\n",
       "       [ 4.5],\n",
       "       [ 6.8],\n",
       "       [ 2.1],\n",
       "       [ 3.1],\n",
       "       [ 2.9],\n",
       "       [ 3.4],\n",
       "       [ 3. ],\n",
       "       [ 4.2],\n",
       "       [ 5.1],\n",
       "       [ 1.5],\n",
       "       [ 2.4],\n",
       "       [ 1.6],\n",
       "       [ 1.7],\n",
       "       [ 3.8],\n",
       "       [ 3.6],\n",
       "       [ 3.3],\n",
       "       [ 3.8],\n",
       "       [ 4. ],\n",
       "       [ 2.4],\n",
       "       [ 3.1],\n",
       "       [ 5.1],\n",
       "       [13. ],\n",
       "       [ 4.3],\n",
       "       [ 1.7],\n",
       "       [ 3.5],\n",
       "       [ 6.1],\n",
       "       [ 3.5],\n",
       "       [ 3.9],\n",
       "       [ 3.6],\n",
       "       [ 5.7],\n",
       "       [ 3.9],\n",
       "       [ 7.2],\n",
       "       [ 3.1],\n",
       "       [ 5.8],\n",
       "       [ 1.9],\n",
       "       [ 2.1],\n",
       "       [ 3.3],\n",
       "       [ 1.9],\n",
       "       [ 6.5],\n",
       "       [ 3.3],\n",
       "       [ 3.5],\n",
       "       [ 1.1],\n",
       "       [ 6.3],\n",
       "       [ 6.2],\n",
       "       [ 2.1],\n",
       "       [ 4.4]])"
      ]
     },
     "execution_count": 7,
     "metadata": {},
     "output_type": "execute_result"
    }
   ],
   "source": [
    "x"
   ]
  },
  {
   "cell_type": "code",
   "execution_count": 9,
   "id": "c8ae2606-f608-4b30-9141-a3b124d18d58",
   "metadata": {},
   "outputs": [
    {
     "data": {
      "text/plain": [
       "array([ 5953753,  7223131,  2555379,  2175511,  4816715,  4517319,\n",
       "        5966635,  6491607,  5152497,  4544227,  3945135,  3861370,\n",
       "        2234634,  5107746,  1099097,  3918918, 19696939,  7513524,\n",
       "        4937526,  1521934,  5025735,   849870,  4956086,  1999068,\n",
       "        7904084,  2778621,  2967425,  6135276,  7705945,  2447890,\n",
       "        2408199,  2358644,  3261924,  2371202,  4100886,  3903884,\n",
       "        3028267,  2740687,  5461700,  3818055,  6836483,  4554237,\n",
       "        4952255,  2732645,  4264176,  3752885,  4250758,  7865428,\n",
       "        7201784,  8630682,  2156098,  3273041,  1763231,  5595267,\n",
       "        4651866,  6941173,  2390534,  3258837,  3004429,  3600467,\n",
       "        3164972,  4350573,  5286212,  1619683,  2551252,  1756069,\n",
       "        1882131,  4052733,  3836721,  3452382,  3982767,  4136425,\n",
       "        2525375,  3347767,  5500818, 16549064,  4590423,  1904842,\n",
       "        3871344,  6313221,  3727364,  4066618,  3807496,  5966193,\n",
       "        4250553,  7495092,  3351383,  5906596,  2025297,  2364478,\n",
       "        3426169,  2083447,  6782425,  3410878,  3753720,  1270499,\n",
       "        6412623,  6694797,  2344689,  4567678], dtype=int64)"
      ]
     },
     "execution_count": 9,
     "metadata": {},
     "output_type": "execute_result"
    }
   ],
   "source": [
    "y"
   ]
  },
  {
   "cell_type": "code",
   "execution_count": 8,
   "id": "6cf8c333-24c8-4286-bd51-dc235980c981",
   "metadata": {},
   "outputs": [],
   "source": [
    "from sklearn.model_selection import train_test_split\n",
    "x_train,x_test,y_train,y_test=train_test_split(x,y,test_size=0.2,random_state=42)"
   ]
  },
  {
   "cell_type": "code",
   "execution_count": 10,
   "id": "66e60240-f028-494e-a706-53091b59ac7d",
   "metadata": {},
   "outputs": [
    {
     "data": {
      "text/plain": [
       "array([[ 6.8],\n",
       "       [ 1.9],\n",
       "       [ 2.1],\n",
       "       [ 4.8],\n",
       "       [ 3.3],\n",
       "       [ 3.1],\n",
       "       [ 6.7],\n",
       "       [ 6.3],\n",
       "       [ 5.3],\n",
       "       [ 2.4],\n",
       "       [ 5. ],\n",
       "       [ 7.7],\n",
       "       [ 7.2],\n",
       "       [ 4.6],\n",
       "       [ 3.3],\n",
       "       [ 4.9],\n",
       "       [ 1.7],\n",
       "       [ 1.6],\n",
       "       [ 3.6],\n",
       "       [10.8],\n",
       "       [ 8.5],\n",
       "       [ 4. ],\n",
       "       [ 4.3],\n",
       "       [ 1.1],\n",
       "       [ 5.3],\n",
       "       [ 1.9],\n",
       "       [ 3.9],\n",
       "       [ 3.6],\n",
       "       [ 5.1],\n",
       "       [ 4.7],\n",
       "       [ 8.8],\n",
       "       [ 2.5],\n",
       "       [ 8.1],\n",
       "       [ 5.3],\n",
       "       [ 4.8],\n",
       "       [ 3.5],\n",
       "       [ 5. ],\n",
       "       [ 2.4],\n",
       "       [ 2.8],\n",
       "       [ 2.1],\n",
       "       [ 2.1],\n",
       "       [ 4.4],\n",
       "       [ 4.5],\n",
       "       [ 2.6],\n",
       "       [ 1.9],\n",
       "       [ 3.8],\n",
       "       [ 4.1],\n",
       "       [ 3.6],\n",
       "       [ 4.2],\n",
       "       [ 6.2],\n",
       "       [ 6.1],\n",
       "       [ 4.4],\n",
       "       [ 2.9],\n",
       "       [ 7.1],\n",
       "       [ 2.1],\n",
       "       [ 3.1],\n",
       "       [13. ],\n",
       "       [ 3.1],\n",
       "       [ 3.5],\n",
       "       [ 3.4],\n",
       "       [ 1.5],\n",
       "       [ 3.9],\n",
       "       [ 2.6],\n",
       "       [ 3.3],\n",
       "       [ 6.8],\n",
       "       [ 1.6],\n",
       "       [ 1. ],\n",
       "       [ 1.9],\n",
       "       [ 2.8],\n",
       "       [ 5.8],\n",
       "       [ 1.9],\n",
       "       [ 5.1],\n",
       "       [ 3.1],\n",
       "       [ 3.6],\n",
       "       [ 5.4],\n",
       "       [ 3. ],\n",
       "       [ 4. ],\n",
       "       [ 1.8],\n",
       "       [ 6.5],\n",
       "       [ 3.1]])"
      ]
     },
     "execution_count": 10,
     "metadata": {},
     "output_type": "execute_result"
    }
   ],
   "source": [
    "x_train"
   ]
  },
  {
   "cell_type": "code",
   "execution_count": 11,
   "id": "12bcebfb-9d12-4d8e-a95f-0e29281c5cfd",
   "metadata": {},
   "outputs": [
    {
     "data": {
      "text/plain": [
       "array([[5.7],\n",
       "       [5.4],\n",
       "       [3.8],\n",
       "       [3.6],\n",
       "       [4. ],\n",
       "       [3.7],\n",
       "       [3.8],\n",
       "       [3.5],\n",
       "       [3.6],\n",
       "       [5.5],\n",
       "       [5.2],\n",
       "       [2.9],\n",
       "       [3.1],\n",
       "       [2.2],\n",
       "       [3.3],\n",
       "       [4.2],\n",
       "       [4.3],\n",
       "       [1.7],\n",
       "       [1.6],\n",
       "       [1.9]])"
      ]
     },
     "execution_count": 11,
     "metadata": {},
     "output_type": "execute_result"
    }
   ],
   "source": [
    "x_test"
   ]
  },
  {
   "cell_type": "code",
   "execution_count": 12,
   "id": "a2ef7277-2450-4702-803f-f9584694a7c9",
   "metadata": {},
   "outputs": [
    {
     "data": {
      "text/plain": [
       "array([ 6941173,  2025297,  2967425,  4952255,  3452382,  3918918,\n",
       "        6836483,  6412623,  4544227,  2525375,  3861370,  7865428,\n",
       "        7495092,  7705945,  3410878,  4517319,  1882131,  1756069,\n",
       "        3903884, 19696939,  8630682,  4100886,  6491607,  1270499,\n",
       "        6135276,  1521934,  4066618,  2778621,  5286212,  5107746,\n",
       "        7904084,  2175511,  7513524,  5461700,  5152497,  3871344,\n",
       "        5966635,  2551252,  3028267,  2364478,  2390534,  4567678,\n",
       "        4651866,  2732645,  2156098,  4052733,  4250758,  3836721,\n",
       "        4350573,  6694797,  6313221,  4554237,  3004429,  7201784,\n",
       "        2344689,  3258837, 16549064,  3261924,  3753720,  3600467,\n",
       "        1619683,  4250553,  2740687,  2447890,  7223131,  1763231,\n",
       "         849870,  2555379,  1999068,  5906596,  2083447,  5500818,\n",
       "        3351383,  3807496,  5025735,  3164972,  4136425,  1099097,\n",
       "        6782425,  3273041], dtype=int64)"
      ]
     },
     "execution_count": 12,
     "metadata": {},
     "output_type": "execute_result"
    }
   ],
   "source": [
    "y_train"
   ]
  },
  {
   "cell_type": "code",
   "execution_count": 13,
   "id": "bf495128-9cb4-4180-8739-ed7257db9c8b",
   "metadata": {},
   "outputs": [
    {
     "data": {
      "text/plain": [
       "array([5966193, 5595267, 3982767, 3752885, 4264176, 3818055, 4956086,\n",
       "       3727364, 3945135, 5953753, 4937526, 2408199, 3347767, 2371202,\n",
       "       3426169, 4816715, 4590423, 1904842, 2234634, 2358644], dtype=int64)"
      ]
     },
     "execution_count": 13,
     "metadata": {},
     "output_type": "execute_result"
    }
   ],
   "source": [
    "y_test"
   ]
  },
  {
   "cell_type": "code",
   "execution_count": 14,
   "id": "20f0805a-3a81-4ea3-b7e7-649d79d055de",
   "metadata": {},
   "outputs": [
    {
     "data": {
      "text/html": [
       "<style>#sk-container-id-1 {color: black;background-color: white;}#sk-container-id-1 pre{padding: 0;}#sk-container-id-1 div.sk-toggleable {background-color: white;}#sk-container-id-1 label.sk-toggleable__label {cursor: pointer;display: block;width: 100%;margin-bottom: 0;padding: 0.3em;box-sizing: border-box;text-align: center;}#sk-container-id-1 label.sk-toggleable__label-arrow:before {content: \"▸\";float: left;margin-right: 0.25em;color: #696969;}#sk-container-id-1 label.sk-toggleable__label-arrow:hover:before {color: black;}#sk-container-id-1 div.sk-estimator:hover label.sk-toggleable__label-arrow:before {color: black;}#sk-container-id-1 div.sk-toggleable__content {max-height: 0;max-width: 0;overflow: hidden;text-align: left;background-color: #f0f8ff;}#sk-container-id-1 div.sk-toggleable__content pre {margin: 0.2em;color: black;border-radius: 0.25em;background-color: #f0f8ff;}#sk-container-id-1 input.sk-toggleable__control:checked~div.sk-toggleable__content {max-height: 200px;max-width: 100%;overflow: auto;}#sk-container-id-1 input.sk-toggleable__control:checked~label.sk-toggleable__label-arrow:before {content: \"▾\";}#sk-container-id-1 div.sk-estimator input.sk-toggleable__control:checked~label.sk-toggleable__label {background-color: #d4ebff;}#sk-container-id-1 div.sk-label input.sk-toggleable__control:checked~label.sk-toggleable__label {background-color: #d4ebff;}#sk-container-id-1 input.sk-hidden--visually {border: 0;clip: rect(1px 1px 1px 1px);clip: rect(1px, 1px, 1px, 1px);height: 1px;margin: -1px;overflow: hidden;padding: 0;position: absolute;width: 1px;}#sk-container-id-1 div.sk-estimator {font-family: monospace;background-color: #f0f8ff;border: 1px dotted black;border-radius: 0.25em;box-sizing: border-box;margin-bottom: 0.5em;}#sk-container-id-1 div.sk-estimator:hover {background-color: #d4ebff;}#sk-container-id-1 div.sk-parallel-item::after {content: \"\";width: 100%;border-bottom: 1px solid gray;flex-grow: 1;}#sk-container-id-1 div.sk-label:hover label.sk-toggleable__label {background-color: #d4ebff;}#sk-container-id-1 div.sk-serial::before {content: \"\";position: absolute;border-left: 1px solid gray;box-sizing: border-box;top: 0;bottom: 0;left: 50%;z-index: 0;}#sk-container-id-1 div.sk-serial {display: flex;flex-direction: column;align-items: center;background-color: white;padding-right: 0.2em;padding-left: 0.2em;position: relative;}#sk-container-id-1 div.sk-item {position: relative;z-index: 1;}#sk-container-id-1 div.sk-parallel {display: flex;align-items: stretch;justify-content: center;background-color: white;position: relative;}#sk-container-id-1 div.sk-item::before, #sk-container-id-1 div.sk-parallel-item::before {content: \"\";position: absolute;border-left: 1px solid gray;box-sizing: border-box;top: 0;bottom: 0;left: 50%;z-index: -1;}#sk-container-id-1 div.sk-parallel-item {display: flex;flex-direction: column;z-index: 1;position: relative;background-color: white;}#sk-container-id-1 div.sk-parallel-item:first-child::after {align-self: flex-end;width: 50%;}#sk-container-id-1 div.sk-parallel-item:last-child::after {align-self: flex-start;width: 50%;}#sk-container-id-1 div.sk-parallel-item:only-child::after {width: 0;}#sk-container-id-1 div.sk-dashed-wrapped {border: 1px dashed gray;margin: 0 0.4em 0.5em 0.4em;box-sizing: border-box;padding-bottom: 0.4em;background-color: white;}#sk-container-id-1 div.sk-label label {font-family: monospace;font-weight: bold;display: inline-block;line-height: 1.2em;}#sk-container-id-1 div.sk-label-container {text-align: center;}#sk-container-id-1 div.sk-container {/* jupyter's `normalize.less` sets `[hidden] { display: none; }` but bootstrap.min.css set `[hidden] { display: none !important; }` so we also need the `!important` here to be able to override the default hidden behavior on the sphinx rendered scikit-learn.org. See: https://github.com/scikit-learn/scikit-learn/issues/21755 */display: inline-block !important;position: relative;}#sk-container-id-1 div.sk-text-repr-fallback {display: none;}</style><div id=\"sk-container-id-1\" class=\"sk-top-container\"><div class=\"sk-text-repr-fallback\"><pre>LinearRegression()</pre><b>In a Jupyter environment, please rerun this cell to show the HTML representation or trust the notebook. <br />On GitHub, the HTML representation is unable to render, please try loading this page with nbviewer.org.</b></div><div class=\"sk-container\" hidden><div class=\"sk-item\"><div class=\"sk-estimator sk-toggleable\"><input class=\"sk-toggleable__control sk-hidden--visually\" id=\"sk-estimator-id-1\" type=\"checkbox\" checked><label for=\"sk-estimator-id-1\" class=\"sk-toggleable__label sk-toggleable__label-arrow\">LinearRegression</label><div class=\"sk-toggleable__content\"><pre>LinearRegression()</pre></div></div></div></div></div>"
      ],
      "text/plain": [
       "LinearRegression()"
      ]
     },
     "execution_count": 14,
     "metadata": {},
     "output_type": "execute_result"
    }
   ],
   "source": [
    "from sklearn.linear_model import LinearRegression\n",
    "regressor=LinearRegression()\n",
    "regressor.fit(x_train,y_train)"
   ]
  },
  {
   "cell_type": "code",
   "execution_count": 15,
   "id": "2df5c1c3-434c-467c-9484-b474103f1d9a",
   "metadata": {},
   "outputs": [],
   "source": [
    "y_pred=regressor.predict(x_test)"
   ]
  },
  {
   "cell_type": "code",
   "execution_count": 16,
   "id": "755db582-a7d3-4f68-8942-d91b89b3650b",
   "metadata": {},
   "outputs": [
    {
     "data": {
      "text/plain": [
       "array([6351103.23642516, 5984998.65773576, 4032440.90472562,\n",
       "       3788371.18559936, 4276510.62385189, 3910406.04516249,\n",
       "       4032440.90472562, 3666336.32603622, 3788371.18559936,\n",
       "       6107033.5172989 , 5740928.9386095 , 2934127.16865742,\n",
       "       3178196.88778369, 2079883.15171548, 3422266.60690995,\n",
       "       4520580.34297816, 4642615.20254129, 1469708.85389981,\n",
       "       1347673.99433668, 1713778.57302608])"
      ]
     },
     "execution_count": 16,
     "metadata": {},
     "output_type": "execute_result"
    }
   ],
   "source": [
    "y_pred"
   ]
  },
  {
   "cell_type": "code",
   "execution_count": 20,
   "id": "1f4a96a3-af95-4d17-9ba9-6ce6b52b0875",
   "metadata": {},
   "outputs": [],
   "source": [
    "import matplotlib.pyplot as plt"
   ]
  },
  {
   "cell_type": "code",
   "execution_count": 21,
   "id": "8f880e7e-b6d0-4f79-816a-3e2780d0539c",
   "metadata": {},
   "outputs": [
    {
     "data": {
      "text/plain": [
       "Text(0, 0.5, 'Revenue')"
      ]
     },
     "execution_count": 21,
     "metadata": {},
     "output_type": "execute_result"
    },
    {
     "data": {
      "image/png": "[encoded data removed]",
      "text/plain": [
       "<Figure size 640x480 with 1 Axes>"
      ]
     },
     "metadata": {},
     "output_type": "display_data"
    }
   ],
   "source": [
    "plt.scatter(x_train,y_train,color=\"blue\")\n",
    "plt.plot(x_train,regressor.predict(x_train),color=\"green\")\n",
    "plt.title(\"Revenue vs orders\")\n",
    "plt.xlabel(\"orders\")\n",
    "plt.ylabel(\"Revenue\")"
   ]
  },
  {
   "cell_type": "code",
   "execution_count": 22,
   "id": "78f70d0a-737d-4d5c-8989-2599f4879317",
   "metadata": {},
   "outputs": [
    {
     "data": {
      "text/plain": [
       "Text(0, 0.5, 'Revenue')"
      ]
     },
     "execution_count": 22,
     "metadata": {},
     "output_type": "execute_result"
    },
    {
     "data": {
      "image/png": "[encoded data removed]",
      "text/plain": [
       "<Figure size 640x480 with 1 Axes>"
      ]
     },
     "metadata": {},
     "output_type": "display_data"
    }
   ],
   "source": [
    "plt.scatter(x_test,y_test,color=\"blue\")\n",
    "plt.plot(x_train,regressor.predict(x_train),color=\"green\")\n",
    "plt.title(\"Revenue vs orders\")\n",
    "plt.xlabel(\"orders\")\n",
    "plt.ylabel(\"Revenue\")"
   ]
  },
  {
   "cell_type": "code",
   "execution_count": 23,
   "id": "e35c00a8-a8f9-4563-a9a7-231afa5e5562",
   "metadata": {},
   "outputs": [],
   "source": [
    "from sklearn.metrics import r2_score"
   ]
  },
  {
   "cell_type": "code",
   "execution_count": 24,
   "id": "9aa584b2-3c71-4f37-b7f5-8f34eb112aeb",
   "metadata": {},
   "outputs": [],
   "source": [
    "score=r2_score(y_pred,y_test)"
   ]
  },
  {
   "cell_type": "code",
   "execution_count": 25,
   "id": "cd5ce37a-d137-4d00-874f-9ce5b829a707",
   "metadata": {},
   "outputs": [
    {
     "data": {
      "text/plain": [
       "0.9109612329066814"
      ]
     },
     "execution_count": 25,
     "metadata": {},
     "output_type": "execute_result"
    }
   ],
   "source": [
    "score"
   ]
  },
  {
   "cell_type": "code",
   "execution_count": null,
   "id": "6b09967e-8f48-4f31-8852-bf4f8b55af22",
   "metadata": {},
   "outputs": [],
   "source": []
  }
 ],
 "metadata": {
  "kernelspec": {
   "display_name": "Python 3 (ipykernel)",
   "language": "python",
   "name": "python3"
  },
  "language_info": {
   "codemirror_mode": {
    "name": "ipython",
    "version": 3
   },
   "file_extension": ".py",
   "mimetype": "text/x-python",
   "name": "python",
   "nbconvert_exporter": "python",
   "pygments_lexer": "ipython3",
   "version": "3.11.7"
  }
 },
 "nbformat": 4,
 "nbformat_minor": 5
}
