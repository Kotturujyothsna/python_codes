{
 "cells": [
  {
   "cell_type": "raw",
   "id": "44fd1b3a-7adb-4f4e-a007-a98caac22de6",
   "metadata": {},
   "source": [
    "1. Create a class named Employee, with a constructor ‘__init__’ method that\n",
    "accepts name and salary as parameters and set properties named name\n",
    "and salary.\n",
    "2. Define __str__ method in Employee class so that when someone tries to\n",
    "print the object the string Name: employee_name, Salary:\n",
    "employee_salary is printed with the actual employee name and salary.\n",
    "3. Create another class named Calculator, with methods to add, subtract,\n",
    "multiply and divide two numbers.\n",
    "4. These methods take two numbers as parameters.\n",
    "5. These methods will be called by a method named execute command.\n",
    "6. Execute command takes in 3 parameters command which is string that can\n",
    "be either ‘add’, ‘sub’, ‘mul’, ‘div’, and two numbers and it will call the\n",
    "appropriate method based on command parameter."
   ]
  },
  {
   "cell_type": "code",
   "execution_count": 1,
   "id": "10a9559b-4b81-4e49-bccd-31270a4c38f3",
   "metadata": {},
   "outputs": [],
   "source": [
    "class Employee:\n",
    "    def __init__(self, name, salary):\n",
    "        self.name = name\n",
    "        self.salary = salary\n",
    "    \n",
    "    def __str__(self):\n",
    "        return f\"Name: {self.name}, Salary: {self.salary}\"\n"
   ]
  },
  {
   "cell_type": "code",
   "execution_count": 2,
   "id": "f1bdf141-b30b-452f-be1f-fc33c77d394c",
   "metadata": {},
   "outputs": [],
   "source": [
    "class Calculator:\n",
    "    def add(self, num1, num2):\n",
    "        return num1 + num2\n",
    "    \n",
    "    def subtract(self, num1, num2):\n",
    "        return num1 - num2\n",
    "    \n",
    "    def multiply(self, num1, num2):\n",
    "        return num1 * num2\n",
    "    \n",
    "    def divide(self, num1, num2):\n",
    "        if num2 == 0:\n",
    "            raise ValueError(\"Division by zero is not allowed\")\n",
    "        return num1 / num2\n",
    "    \n",
    "    def execute_command(self, command, num1, num2):\n",
    "        if command == 'add':\n",
    "            return self.add(num1, num2)\n",
    "        elif command == 'sub':\n",
    "            return self.subtract(num1, num2)\n",
    "        elif command == 'mul':\n",
    "            return self.multiply(num1, num2)\n",
    "        elif command == 'div':\n",
    "            return self.divide(num1, num2)\n",
    "        else:\n",
    "            raise ValueError(\"Invalid command. Command must be 'add', 'sub', 'mul', or 'div'\")\n"
   ]
  },
  {
   "cell_type": "code",
   "execution_count": null,
   "id": "208da57d-3eba-4afa-9ad1-b614aa2402ad",
   "metadata": {},
   "outputs": [],
   "source": [
    "\n",
    "emp = Employee(\"John Doe\", 50000)\n",
    "print(emp) \n",
    "\n",
    "calc = Calculator()\n",
    "result_add = calc.execute_command('add', 10, 5)\n",
    "print(\"Result of addition:\", result_add) \n",
    "\n",
    "result_sub = calc.execute_command('sub', 10, 5)\n",
    "print(\"Result of subtraction:\", result_sub) \n",
    "\n",
    "result_mul = calc.execute_command('mul', 10, 5)\n",
    "print(\"Result of multiplication:\", result_mul)  # Output: 50\n",
    "\n",
    "result_div = calc.execute_command('div', 10, 5)\n",
    "print(\"Result of division:\", result_div)  # Output: 2.0\n"
   ]
  }
 ],
 "metadata": {
  "kernelspec": {
   "display_name": "Python 3 (ipykernel)",
   "language": "python",
   "name": "python3"
  },
  "language_info": {
   "codemirror_mode": {
    "name": "ipython",
    "version": 3
   },
   "file_extension": ".py",
   "mimetype": "text/x-python",
   "name": "python",
   "nbconvert_exporter": "python",
   "pygments_lexer": "ipython3",
   "version": "3.11.7"
  }
 },
 "nbformat": 4,
 "nbformat_minor": 5
}
