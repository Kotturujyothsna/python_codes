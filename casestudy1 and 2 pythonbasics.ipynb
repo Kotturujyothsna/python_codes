{
 "cells": [
  {
   "cell_type": "raw",
   "id": "d9d7ecbd-20a8-4872-bed1-16e82e8397f9",
   "metadata": {},
   "source": [
    "#case study 1-getting started with python"
   ]
  },
  {
   "cell_type": "raw",
   "id": "6ae18423-79dc-49f3-8b0d-253c2f97b59e",
   "metadata": {},
   "source": [
    "Create a list containing squares of numbers from 1 to 10 (HINT: use List\n",
    "Comprehension)"
   ]
  },
  {
   "cell_type": "code",
   "execution_count": 1,
   "id": "b2e70e32-fb32-4438-a939-898203169e04",
   "metadata": {},
   "outputs": [
    {
     "name": "stdout",
     "output_type": "stream",
     "text": [
      "[1, 4, 9, 16, 25, 36, 49, 64, 81, 100]\n"
     ]
    }
   ],
   "source": [
    "# Using list comprehension to generate squares of numbers from 1 to 10\n",
    "squares = [x**2 for x in range(1, 11)]\n",
    "\n",
    "# Printing the list of squares\n",
    "print(squares)\n"
   ]
  },
  {
   "cell_type": "raw",
   "id": "7895700b-cf6f-43bc-b5a6-43138333a708",
   "metadata": {},
   "source": [
    "Write a function to check if the year number is a leap year"
   ]
  },
  {
   "cell_type": "code",
   "execution_count": 11,
   "id": "ae38e88d-2842-408c-8081-cccad08c318b",
   "metadata": {},
   "outputs": [
    {
     "name": "stdout",
     "output_type": "stream",
     "text": [
      "True\n",
      "False\n",
      "True\n",
      "False\n"
     ]
    }
   ],
   "source": [
    "def is_leap_year(year):\n",
    "    if year % 4 == 0:\n",
    "        if year % 100 == 0:\n",
    "            if year % 400 == 0:\n",
    "                return True\n",
    "            else:\n",
    "                return False\n",
    "        else:\n",
    "            return True\n",
    "    else:\n",
    "        return False\n",
    "        # Test cases\n",
    "print(is_leap_year(2020))  # True (2020 is a leap year)\n",
    "print(is_leap_year(2021))  # False (2021 is not a leap year)\n",
    "print(is_leap_year(2000))  # True (2000 is a leap year)\n",
    "print(is_leap_year(1900))  # False (1900 is not a leap year)\n"
   ]
  },
  {
   "cell_type": "raw",
   "id": "26b01c99-3462-44a8-b6bc-90b4a2ef1e12",
   "metadata": {},
   "source": [
    "Write a function to take an array and return another array that contains the\n",
    "members of the first array that are even"
   ]
  },
  {
   "cell_type": "code",
   "execution_count": 12,
   "id": "3904f69a-063e-4c6f-b674-9dc2fd5c12fe",
   "metadata": {},
   "outputs": [
    {
     "name": "stdout",
     "output_type": "stream",
     "text": [
      "[2, 4, 6, 8, 10]\n"
     ]
    }
   ],
   "source": [
    "def find_even_numbers(arr):\n",
    "    even_numbers = [num for num in arr if num % 2 == 0]\n",
    "    return even_numbers\n",
    "numbers = [1, 2, 3, 4, 5, 6, 7, 8, 9, 10]\n",
    "even_numbers = find_even_numbers(numbers)\n",
    "print(even_numbers)  \n"
   ]
  },
  {
   "cell_type": "raw",
   "id": "96035f3b-a4e1-4c69-9d36-22a83e079b6c",
   "metadata": {},
   "source": [
    "Write a function that takes 2 arrays and prints the members of the first\n",
    "array that are present in the second array. (HINT: use Membership\n",
    "Comprehension)\n"
   ]
  },
  {
   "cell_type": "code",
   "execution_count": 14,
   "id": "428b24fd-ac38-4af6-9a72-6fb34fb877b5",
   "metadata": {},
   "outputs": [
    {
     "name": "stdout",
     "output_type": "stream",
     "text": [
      "Common elements in arr1 and arr2: [3, 4, 5]\n"
     ]
    }
   ],
   "source": [
    "def find_common_elements(arr1, arr2):\n",
    "    common_elements = [elem for elem in arr1 if elem in arr2]\n",
    "    print(\"Common elements in arr1 and arr2:\", common_elements)\n",
    "array1 = [1, 2, 3, 4, 5]\n",
    "array2 = [3, 4, 5, 6, 7]\n",
    "find_common_elements(array1, array2)\n"
   ]
  },
  {
   "cell_type": "code",
   "execution_count": null,
   "id": "5a82ed95-638f-4bf8-bb23-7b4b8c779311",
   "metadata": {},
   "outputs": [],
   "source": [
    "#case study 2-introduction to python"
   ]
  },
  {
   "cell_type": "raw",
   "id": "3ebe7920-e8bf-444f-8680-04b0e4c753b7",
   "metadata": {},
   "source": [
    "Create 1st tuple with values -> (10, 20, 30), 2nd tuple with values -> (40,\n",
    "50, 60):\n",
    "a. Concatenate the two tuples and store it in “t_combine”\n",
    "b. Repeat the elements of “t_combine” 3 times\n",
    "c. Access the 3rd element from “t_combine”\n",
    "d. Access the first three elements from “t_combine”\n",
    "e. Access the last three elements from “t_combine"
   ]
  },
  {
   "cell_type": "code",
   "execution_count": 15,
   "id": "db976a76-92cf-4067-a980-b1bed15dea86",
   "metadata": {},
   "outputs": [
    {
     "name": "stdout",
     "output_type": "stream",
     "text": [
      "Concatenated tuple: (10, 20, 30, 40, 50, 60)\n",
      "Repeated tuple: (10, 20, 30, 40, 50, 60, 10, 20, 30, 40, 50, 60, 10, 20, 30, 40, 50, 60)\n",
      "3rd element of t_combine: 30\n",
      "First three elements of t_combine: (10, 20, 30)\n",
      "Last three elements of t_combine: (40, 50, 60)\n"
     ]
    }
   ],
   "source": [
    "\n",
    "tuple1 = (10, 20, 30)\n",
    "tuple2 = (40, 50, 60)\n",
    "\n",
    "# Concatenate the two tuples\n",
    "t_combine = tuple1 + tuple2\n",
    "print(\"Concatenated tuple:\", t_combine)\n",
    "\n",
    "# Repeat elements of t_combine 3 times\n",
    "t_repeat = t_combine * 3\n",
    "print(\"Repeated tuple:\", t_repeat)\n",
    "\n",
    "# Access the 3rd element\n",
    "third_element = t_combine[2]\n",
    "print(\"3rd element of t_combine:\", third_element)\n",
    "\n",
    "# Access the first three elements\n",
    "first_three_elements = t_combine[:3]\n",
    "print(\"First three elements of t_combine:\", first_three_elements)\n",
    "\n",
    "# Access the last three elements\n",
    "last_three_elements = t_combine[-3:]\n",
    "print(\"Last three elements of t_combine:\", last_three_elements)\n"
   ]
  },
  {
   "cell_type": "raw",
   "id": "1d420ef7-ec1c-46ea-8214-323690c4371a",
   "metadata": {},
   "source": [
    "Create a list ‘my_list’ with these elements:\n",
    "a. First element is a tuple with values 1, 2, 3\n",
    "b. Second element is a tuple with values “a”, “b”, “c”\n",
    "c. Third element is a tuple with values true ,false"
   ]
  },
  {
   "cell_type": "code",
   "execution_count": 16,
   "id": "c05d3303-f463-4443-a87d-591a9c2d7cfe",
   "metadata": {},
   "outputs": [
    {
     "name": "stdout",
     "output_type": "stream",
     "text": [
      "my_list: [(1, 2, 3), ('a', 'b', 'c'), (True, False)]\n"
     ]
    }
   ],
   "source": [
    "# Create a list 'my_list' with tuples as elements\n",
    "my_list = [\n",
    "    (1, 2, 3),\n",
    "    (\"a\", \"b\", \"c\"),\n",
    "    (True, False)\n",
    "]\n",
    "\n",
    "# Print the list to verify\n",
    "print(\"my_list:\", my_list)\n"
   ]
  },
  {
   "cell_type": "raw",
   "id": "fb75a170-3b12-43fd-a4ca-ca4f25815ee4",
   "metadata": {},
   "source": [
    "3. Append a new tuple – (1, ‘a’, True) to ‘my_list’:\n",
    "a. Append a new list – *“sparta”, 123+ to my_list"
   ]
  },
  {
   "cell_type": "code",
   "execution_count": 17,
   "id": "43b8f2f0-96b2-4cb3-8500-5f4d67bddfa2",
   "metadata": {},
   "outputs": [
    {
     "name": "stdout",
     "output_type": "stream",
     "text": [
      "After appending tuple: [(1, 2, 3), ('a', 'b', 'c'), (True, False), (1, 'a', True)]\n",
      "After appending list: [(1, 2, 3), ('a', 'b', 'c'), (True, False), (1, 'a', True), ['sparta', 123]]\n"
     ]
    }
   ],
   "source": [
    "# Existing list 'my_list'\n",
    "my_list = [\n",
    "    (1, 2, 3),\n",
    "    (\"a\", \"b\", \"c\"),\n",
    "    (True, False)\n",
    "]\n",
    "\n",
    "# Append a new tuple (1, 'a', True) to my_list\n",
    "new_tuple = (1, 'a', True)\n",
    "my_list.append(new_tuple)\n",
    "\n",
    "# Print my_list after appending the new tuple\n",
    "print(\"After appending tuple:\", my_list)\n",
    "\n",
    "# Append a new list [\"sparta\", 123] to my_list\n",
    "new_list = [\"sparta\", 123]\n",
    "my_list.append(new_list)\n",
    "\n",
    "# Print my_list after appending the new list\n",
    "print(\"After appending list:\", my_list)\n"
   ]
  },
  {
   "cell_type": "raw",
   "id": "f682fb94-e114-4f6b-8457-60458bcf1263",
   "metadata": {},
   "source": [
    "Create a dictionary ‘fruit’ where:\n",
    "a. The first key is ‘Fruit’ and the values are (“Apple”, “Banana”, “Mango”,\n",
    "“Guava”)\n",
    "b. The second key is ‘Cost’ and the values are (85, 54, 120, 70)\n",
    "c. Extract all the keys from ‘fruit’\n",
    "d. Extract all the values from ‘fruit’"
   ]
  },
  {
   "cell_type": "code",
   "execution_count": 18,
   "id": "d596ba34-ed17-455f-8659-388dd14bdfc3",
   "metadata": {},
   "outputs": [
    {
     "name": "stdout",
     "output_type": "stream",
     "text": [
      "Dictionary 'fruit': {'Fruit': ('Apple', 'Banana', 'Mango', 'Guava'), 'Cost': (85, 54, 120, 70)}\n",
      "Keys in 'fruit': ['Fruit', 'Cost']\n",
      "Values in 'fruit': [('Apple', 'Banana', 'Mango', 'Guava'), (85, 54, 120, 70)]\n"
     ]
    }
   ],
   "source": [
    "# Create the dictionary 'fruit'\n",
    "fruit = {\n",
    "    'Fruit': (\"Apple\", \"Banana\", \"Mango\", \"Guava\"),\n",
    "    'Cost': (85, 54, 120, 70)\n",
    "}\n",
    "\n",
    "# Print the created dictionary\n",
    "print(\"Dictionary 'fruit':\", fruit)\n",
    "\n",
    "# Extract all keys from 'fruit'\n",
    "keys = list(fruit.keys())\n",
    "\n",
    "# Print the keys\n",
    "print(\"Keys in 'fruit':\", keys)\n",
    "\n",
    "# Extract all values from 'fruit'\n",
    "values = list(fruit.values())\n",
    "\n",
    "# Print the values\n",
    "print(\"Values in 'fruit':\", values)\n"
   ]
  },
  {
   "cell_type": "raw",
   "id": "aa7725de-521b-4448-b7b0-1f56151592ad",
   "metadata": {},
   "source": [
    "create aset named ‘my_set’ with values (1, 1, “a”, “a”, True, True) and\n",
    "print the result."
   ]
  },
  {
   "cell_type": "code",
   "execution_count": 20,
   "id": "c09388ce-40a4-4157-b556-75a6206fb221",
   "metadata": {},
   "outputs": [
    {
     "name": "stdout",
     "output_type": "stream",
     "text": [
      "Set 'my_set': {'a', 1}\n"
     ]
    }
   ],
   "source": [
    "# Create a set 'my_set' with values (1, 1, \"a\", \"a\", True, True)\n",
    "my_set = {1, 1, \"a\", \"a\", True, True}\n",
    "\n",
    "# Print the set 'my_set'\n",
    "print(\"Set 'my_set':\", my_set)\n"
   ]
  },
  {
   "cell_type": "code",
   "execution_count": null,
   "id": "9d4e0174-c607-4f74-ba1d-362d067fe444",
   "metadata": {},
   "outputs": [],
   "source": []
  }
 ],
 "metadata": {
  "kernelspec": {
   "display_name": "Python 3 (ipykernel)",
   "language": "python",
   "name": "python3"
  },
  "language_info": {
   "codemirror_mode": {
    "name": "ipython",
    "version": 3
   },
   "file_extension": ".py",
   "mimetype": "text/x-python",
   "name": "python",
   "nbconvert_exporter": "python",
   "pygments_lexer": "ipython3",
   "version": "3.11.7"
  }
 },
 "nbformat": 4,
 "nbformat_minor": 5
}
