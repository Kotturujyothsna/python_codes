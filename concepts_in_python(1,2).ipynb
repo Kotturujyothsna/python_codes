{
 "cells": [
  {
   "cell_type": "code",
   "execution_count": 1,
   "id": "1cef8206-06ea-44a3-88ec-acfc057018db",
   "metadata": {},
   "outputs": [],
   "source": [
    "#ASSIGNMENT-1"
   ]
  },
  {
   "cell_type": "raw",
   "id": "023db85e-c57a-4829-8503-98b7165870e8",
   "metadata": {},
   "source": [
    "1. Create a function named ‘factor’ that can only accept 1 argument. The\n",
    "function should return the factorial of that number.\n",
    "2. Create a function named ‘check_string’, the function should accept a string\n",
    "data from the user and the function should check if the user input contains\n",
    "the letter ‘s’ in it. If it contains the letter ‘s’ then print- ‘The string is\n",
    "containing the letter ‘s’’, if not then print- ‘The string doesn’t contain the\n",
    "letter ‘s’’.\n",
    "3. Create a class named ‘student’ and inside the class, create a function\n",
    "named ‘fun1’- this method should accept the user defined input and return\n",
    "that value:\n",
    "a. Create another method named- message() and that method should print\n",
    "the user defined input that we have defined in ‘fun1’.\n",
    "4. Create a lambda function that should double or multiply the number (that\n",
    "we will be passing in the lambda function) by 2. Store the lambda function\n",
    "in a variable named ‘double_num’.\n",
    "5. Take user input string and check whether that string is palindrome or not.\n"
   ]
  },
  {
   "cell_type": "code",
   "execution_count": 2,
   "id": "625b8486-2f88-4c48-8c1e-f212f5d6af26",
   "metadata": {},
   "outputs": [
    {
     "name": "stdout",
     "output_type": "stream",
     "text": [
      "The factorial of 5 is: 120\n"
     ]
    }
   ],
   "source": [
    "def factor(num):\n",
    "    factorial = 1\n",
    "    for i in range(1, num + 1):\n",
    "        factorial *= i\n",
    "    return factorial\n",
    "\n",
    "# Example usage:\n",
    "number = 5\n",
    "print(f\"The factorial of {number} is:\", factor(number))\n"
   ]
  },
  {
   "cell_type": "code",
   "execution_count": 3,
   "id": "47854237-8628-4365-8db3-71e62026bbd0",
   "metadata": {},
   "outputs": [
    {
     "name": "stdin",
     "output_type": "stream",
     "text": [
      "Enter a string:  jyothsna\n"
     ]
    },
    {
     "name": "stdout",
     "output_type": "stream",
     "text": [
      "The string is containing the letter 's'\n"
     ]
    }
   ],
   "source": [
    "def check_string(user_input):\n",
    "    if 's' in user_input.lower():\n",
    "        print(\"The string is containing the letter 's'\")\n",
    "    else:\n",
    "        print(\"The string doesn't contain the letter 's'\")\n",
    "\n",
    "# Example usage:\n",
    "input_string = input(\"Enter a string: \")\n",
    "check_string(input_string)\n"
   ]
  },
  {
   "cell_type": "code",
   "execution_count": 4,
   "id": "8e7772d2-a65f-4c44-8f13-0f277b782ed0",
   "metadata": {},
   "outputs": [
    {
     "name": "stdin",
     "output_type": "stream",
     "text": [
      "Enter a value:  hi\n"
     ]
    },
    {
     "name": "stdout",
     "output_type": "stream",
     "text": [
      "User input: hi\n"
     ]
    }
   ],
   "source": [
    "class student:\n",
    "    def fun1(self):\n",
    "        self.user_input = input(\"Enter a value: \")\n",
    "        return self.user_input\n",
    "    \n",
    "    def message(self):\n",
    "\n",
    "        print(\"User input:\", self.user_input)\n",
    "\n",
    "# Example usage:\n",
    "s = student()\n",
    "value = s.fun1()\n",
    "s.message()\n"
   ]
  },
  {
   "cell_type": "code",
   "execution_count": 5,
   "id": "57f2c6f6-8e9d-451c-ab0c-b42790c760af",
   "metadata": {},
   "outputs": [
    {
     "name": "stdout",
     "output_type": "stream",
     "text": [
      "The double of 10 is: 20\n"
     ]
    }
   ],
   "source": [
    "double_num = lambda x: x * 2\n",
    "\n",
    "# Example usage:\n",
    "number = 10\n",
    "print(f\"The double of {number} is:\", double_num(number))\n"
   ]
  },
  {
   "cell_type": "code",
   "execution_count": 10,
   "id": "093ae238-22a1-4c45-95b7-820c80b4a698",
   "metadata": {},
   "outputs": [
    {
     "name": "stdin",
     "output_type": "stream",
     "text": [
      "Enter a string to check palindrome:  madam\n"
     ]
    },
    {
     "name": "stdout",
     "output_type": "stream",
     "text": [
      "The string is a palindrome.\n"
     ]
    }
   ],
   "source": [
    "def is_palindrome(s):\n",
    "    s = s.lower()  # Convert to lowercase for case insensitivity\n",
    "    return s == s[::-1]\n",
    "\n",
    "# Example usage:\n",
    "input_string = input(\"Enter a string to check palindrome: \")\n",
    "if is_palindrome(input_string):\n",
    "    print(\"The string is a palindrome.\")\n",
    "else:\n",
    "    print(\"The string is not a palindrome.\")\n"
   ]
  },
  {
   "cell_type": "code",
   "execution_count": 11,
   "id": "06832f5e-b8ba-40c7-a5b2-5c3fdacb3aa5",
   "metadata": {},
   "outputs": [],
   "source": [
    "#ASSIGNMENT-2"
   ]
  },
  {
   "cell_type": "raw",
   "id": "6f868f32-4b06-4c20-85ce-bad01e40439f",
   "metadata": {},
   "source": [
    "1. Create a class named ‘Super’ and inside that class define a user-defined\n",
    "function named fun1\n",
    "a. Inside the ‘fun1’ function, pass the message “This is function 1 in the\n",
    "Super class.” in the print statement.\n",
    "2. Create another class named ‘Modified_Super’ and inherit this class from\n",
    "the Super class\n",
    "a. Inside the Modified_Super class, create a function named ‘fun1’ and\n",
    "pass the following message inside the print statement: ‘This is function 1 in\n",
    "the Modified Super class.’\n",
    "b. Create another user-defined function named ‘fun2’ and pass the\n",
    "message: ‘This is the 2 nd function from the Modified Super class’ in the\n",
    "print statement.\n",
    "c. After that, now create an object for the Modified_Super class and call the\n",
    "fun1().\n",
    "3. Create 2 methods named ‘Hello’. In the 1st Hello method, pass only one\n",
    "argument and pass this message: ‘This function is only having 1\n",
    "argument’. And in the 2nd Hello method, pass two arguments and pass\n",
    "this message: ‘This function is having 2 arguments’.\n",
    "a. Try to call both the methods and analyze the output of both the methods.\n",
    "4. Create a method named ‘Sum’ that can accept multiple user inputs. Now\n",
    "add those user defined input values using for loop and the function should\n",
    "return the addition of the numbers.\n",
    "5. Create a class named ‘Encapsulation’:\n",
    "a. Inside the class, first create a constructor. Inside the constructor,\n",
    "initialize originalValue variable as 10.\n",
    "b. After creating the constructor, define a function named ‘Value’ and this\n",
    "function should return the variable that we have initialized in the\n",
    "constructor.\n",
    "c. Now create a 2nd function named setValue, and pass an argument\n",
    "named ‘newValue’. The task of this function will be to replace the value of\n",
    "the originalValue variable by the value of newValue variable.\n"
   ]
  },
  {
   "cell_type": "code",
   "execution_count": 12,
   "id": "d377e365-61a8-42cc-9b6a-803847d821d4",
   "metadata": {},
   "outputs": [
    {
     "name": "stdout",
     "output_type": "stream",
     "text": [
      "This is function 1 in the Super class.\n"
     ]
    }
   ],
   "source": [
    "class Super:\n",
    "    def fun1(self):\n",
    "        print(\"This is function 1 in the Super class.\")\n",
    "\n",
    "# Example usage:\n",
    "s = Super()\n",
    "s.fun1()\n"
   ]
  },
  {
   "cell_type": "code",
   "execution_count": 13,
   "id": "7bfad1fe-90a6-49bf-838a-5b5c955d9c62",
   "metadata": {},
   "outputs": [
    {
     "name": "stdout",
     "output_type": "stream",
     "text": [
      "This is function 1 in the Modified Super class.\n",
      "This is the 2nd function from the Modified Super class.\n"
     ]
    }
   ],
   "source": [
    "class Modified_Super(Super):\n",
    "    def fun1(self):\n",
    "        print(\"This is function 1 in the Modified Super class.\")\n",
    "    \n",
    "    def fun2(self):\n",
    "        print(\"This is the 2nd function from the Modified Super class.\")\n",
    "\n",
    "# Create an object of Modified_Super class and call fun1\n",
    "ms = Modified_Super()\n",
    "ms.fun1()\n",
    "\n",
    "# Call fun2 from Modified_Super class\n",
    "ms.fun2()\n"
   ]
  },
  {
   "cell_type": "code",
   "execution_count": null,
   "id": "6de18923-04ab-4d52-91da-6dd1e233be78",
   "metadata": {},
   "outputs": [],
   "source": [
    "def Hello(arg1):\n",
    "  \n",
    "    print(\"This function is only having 1 argument.\")\n",
    "\n",
    "def Hello(arg1, arg2):\n",
    "    \n",
    "    print(\"This function is having 2 arguments.\")\n",
    "\n",
    "# Example usage:\n",
    "Hello(1)      # Output: This function is only having 1 argument.\n",
    "Hello(1, 2)   # Output: This function is having 2 arguments.\n",
    "\n"
   ]
  },
  {
   "cell_type": "code",
   "execution_count": 4,
   "id": "185e7072-17fb-413d-a456-302a1f9b1260",
   "metadata": {},
   "outputs": [
    {
     "name": "stdout",
     "output_type": "stream",
     "text": [
      "Sum: 15\n"
     ]
    }
   ],
   "source": [
    "def Sum(*args):\n",
    "    total = 0\n",
    "    for num in args:\n",
    "        total += num\n",
    "    return total\n",
    "\n",
    "# Example usage:\n",
    "result = Sum(1, 2, 3, 4, 5)\n",
    "print(\"Sum:\", result)  \n"
   ]
  },
  {
   "cell_type": "code",
   "execution_count": 6,
   "id": "c0808e44-e206-4c75-a124-d41bb5d2c578",
   "metadata": {},
   "outputs": [
    {
     "name": "stdout",
     "output_type": "stream",
     "text": [
      "Initial Value: 10\n",
      "Updated Value: 20\n"
     ]
    }
   ],
   "source": [
    "class Encapsulation:\n",
    "    def __init__(self):\n",
    "        self.originalValue = 10\n",
    "    \n",
    "    def Value(self):\n",
    "        return self.originalValue\n",
    "    \n",
    "    def setValue(self, newValue):\n",
    "        self.originalValue = newValue\n",
    "\n",
    "# Example usage:\n",
    "e = Encapsulation()\n",
    "\n",
    "# Get the initial value using Value method\n",
    "print(\"Initial Value:\", e.Value())  \n",
    "\n",
    "# Set a new value using setValue method\n",
    "e.setValue(20)\n",
    "\n",
    "# Get the updated value using Value method\n",
    "print(\"Updated Value:\", e.Value())  # Output: Updated Value: 20\n",
    "\n"
   ]
  },
  {
   "cell_type": "code",
   "execution_count": 9,
   "id": "80c4c5ee-05fc-4efd-b709-d86df6f46d3c",
   "metadata": {},
   "outputs": [],
   "source": []
  },
  {
   "cell_type": "raw",
   "id": "61c9444f-2aab-4dc7-8c87-e00e2ef2fe31",
   "metadata": {},
   "source": [
    "\n"
   ]
  },
  {
   "cell_type": "code",
   "execution_count": null,
   "id": "17cdb47d-2c09-48e6-9fd8-fa6bc78345c1",
   "metadata": {},
   "outputs": [],
   "source": []
  }
 ],
 "metadata": {
  "kernelspec": {
   "display_name": "Python 3 (ipykernel)",
   "language": "python",
   "name": "python3"
  },
  "language_info": {
   "codemirror_mode": {
    "name": "ipython",
    "version": 3
   },
   "file_extension": ".py",
   "mimetype": "text/x-python",
   "name": "python",
   "nbconvert_exporter": "python",
   "pygments_lexer": "ipython3",
   "version": "3.11.7"
  }
 },
 "nbformat": 4,
 "nbformat_minor": 5
}
