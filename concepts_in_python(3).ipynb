{
 "cells": [
  {
   "cell_type": "raw",
   "id": "9f024df0-5c69-49c7-93f1-698d41d7b1b4",
   "metadata": {},
   "source": [
    "Tasks To Be Performed:\n",
    "1. Create a Python file named Module:\n",
    "a. Inside the file, define 4 methods named – addition, subtraction,\n",
    "multiplication, and division.\n",
    "b. Each method should only accept 2 arguments and should return the\n",
    "result of operation performed in each method. For e.g., addition() should\n",
    "return the sum of two arguments.\n",
    "c. Save the Module file in .py format.\n",
    "2. Open a new python file and import the Module.py file\n",
    "a. Now call the 4 methods from the Module.py file, i.e., addition(),\n",
    "subtraction(), multiplication(), and division().\n",
    "3. From the Module file, import only the addition() and pass the arguments so\n",
    "that it can display the result from the method.\n",
    "4. From the Module file, import only the subtraction() and pass the arguments\n",
    "so that it can display the result from the method.\n",
    "5. From the Module file, import both the multiplication() and division() and\n",
    "pass the arguments so that it can display the result from the methods"
   ]
  },
  {
   "cell_type": "code",
   "execution_count": 3,
   "id": "860f8c4e-ef2f-45f8-801f-8c674cf8b65f",
   "metadata": {},
   "outputs": [],
   "source": [
    "from module import addition, subtraction, multiplication, division"
   ]
  },
  {
   "cell_type": "code",
   "execution_count": 14,
   "id": "cdc4a037-ab82-4de5-8910-bbb0e45053a5",
   "metadata": {},
   "outputs": [
    {
     "name": "stdout",
     "output_type": "stream",
     "text": [
      "110\n",
      "90\n",
      "1000\n",
      "0\n"
     ]
    }
   ],
   "source": [
    "a=100\n",
    "b=10\n",
    "print(a+b)\n",
    "print(a-b)\n",
    "print(a*b)\n",
    "print(a%b)"
   ]
  },
  {
   "cell_type": "code",
   "execution_count": 6,
   "id": "3cc0fa4d-869e-4ab4-b32e-dcb1908727fa",
   "metadata": {},
   "outputs": [],
   "source": [
    "from module import addition as add"
   ]
  },
  {
   "cell_type": "code",
   "execution_count": 7,
   "id": "c638b396-464c-4868-a1a8-67eecd45c25c",
   "metadata": {},
   "outputs": [
    {
     "name": "stdout",
     "output_type": "stream",
     "text": [
      "731\n"
     ]
    }
   ],
   "source": [
    "add(666,65)"
   ]
  },
  {
   "cell_type": "code",
   "execution_count": 8,
   "id": "2e9bc8b9-b916-4ae1-b3db-153d42f2f3f2",
   "metadata": {},
   "outputs": [],
   "source": [
    "from module import subtraction as sub"
   ]
  },
  {
   "cell_type": "code",
   "execution_count": 10,
   "id": "fdd8d83a-90fe-4de3-9c6e-71983f19eaa8",
   "metadata": {},
   "outputs": [
    {
     "name": "stdout",
     "output_type": "stream",
     "text": [
      "200\n"
     ]
    }
   ],
   "source": [
    "sub(222,22)"
   ]
  },
  {
   "cell_type": "code",
   "execution_count": 15,
   "id": "5062889d-6189-43dc-bb29-0d2f8a19b5a3",
   "metadata": {},
   "outputs": [],
   "source": [
    "from module import multiplication as mul\n",
    "from module import division as div"
   ]
  },
  {
   "cell_type": "code",
   "execution_count": 16,
   "id": "3c5048e5-8b3e-4e5d-bcd5-da71eadb819f",
   "metadata": {},
   "outputs": [
    {
     "name": "stdout",
     "output_type": "stream",
     "text": [
      "1694\n"
     ]
    }
   ],
   "source": [
    "mul(22,77)"
   ]
  },
  {
   "cell_type": "code",
   "execution_count": 17,
   "id": "435755d2-66a7-43d5-bcf0-2009c32a2185",
   "metadata": {},
   "outputs": [
    {
     "name": "stdout",
     "output_type": "stream",
     "text": [
      "0.25882352941176473\n"
     ]
    }
   ],
   "source": [
    "div(22,85)"
   ]
  },
  {
   "cell_type": "code",
   "execution_count": null,
   "id": "a4b91aaa-5253-4311-b1c5-06d2997e9c01",
   "metadata": {},
   "outputs": [],
   "source": []
  }
 ],
 "metadata": {
  "kernelspec": {
   "display_name": "Python 3 (ipykernel)",
   "language": "python",
   "name": "python3"
  },
  "language_info": {
   "codemirror_mode": {
    "name": "ipython",
    "version": 3
   },
   "file_extension": ".py",
   "mimetype": "text/x-python",
   "name": "python",
   "nbconvert_exporter": "python",
   "pygments_lexer": "ipython3",
   "version": "3.11.7"
  }
 },
 "nbformat": 4,
 "nbformat_minor": 5
}
