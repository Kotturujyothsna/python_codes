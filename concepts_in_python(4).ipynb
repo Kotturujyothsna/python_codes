{
 "cells": [
  {
   "cell_type": "code",
   "execution_count": 20,
   "id": "04f3c8fd-6eb6-46ef-b779-620f15a13cd2",
   "metadata": {},
   "outputs": [],
   "source": [
    "#ASSIGNMENT4-INHERITANCE"
   ]
  },
  {
   "cell_type": "raw",
   "id": "d4e2a95a-5da3-4b9a-9131-7f38592ba255",
   "metadata": {},
   "source": [
    "1. Create a class named parent_Class and inside the class, initialize a global\n",
    "variable num as 10\n",
    "a. Create another class named child_Class and this class should be\n",
    "inherited from the parent class.\n",
    "b. Now create an object for the child_Class and with the help of\n",
    "child_Class object, display the value of ‘num'."
   ]
  },
  {
   "cell_type": "code",
   "execution_count": 2,
   "id": "c2705306-1c1b-4259-9f82-09a4452668a7",
   "metadata": {},
   "outputs": [],
   "source": [
    "class parent_Class:\n",
    "    def __init__(self):\n",
    "        global num\n",
    "        num = 10\n"
   ]
  },
  {
   "cell_type": "code",
   "execution_count": 3,
   "id": "adf08fc7-6626-4a53-9d3f-826df3d23aa1",
   "metadata": {},
   "outputs": [
    {
     "name": "stdout",
     "output_type": "stream",
     "text": [
      "Value of 'num' from child_Class object: 10\n"
     ]
    }
   ],
   "source": [
    "class child_Class(parent_Class):\n",
    "    def __init__(self):\n",
    "        super().__init__() \n",
    "child_obj = child_Class()\n",
    "print(\"Value of 'num' from child_Class object:\", num)\n"
   ]
  },
  {
   "cell_type": "raw",
   "id": "eb60db97-5c19-4a15-8ceb-a78f31183591",
   "metadata": {},
   "source": [
    "2. Create three classes named A, B and C\n",
    "a. Inside the A class, create a constructor. Inside the constructor, initialize\n",
    "2 global variables name and age.\n",
    "b. After initializing the global variables inside the constructor, now create a\n",
    "function named ‘details’ and that function should return the ‘name’ variable.\n",
    "c. Inside the B class, create a constructor. Inside the constructor, initialize 2\n",
    "global variables name and id.\n",
    "d. After initializing the global variables inside the constructor, now create a\n",
    "function named ‘details’ and that function should return the ‘name’ variable.\n",
    "e. The C class should inherit from class A, and B. Inside the class C,\n",
    "create a constructor, and inside the constructor, call the constructor of\n",
    "class A.\n",
    "f. Now, create a method inside the class C, as get_details, and this function\n",
    "should return the value of name.\n",
    "g. Atlast, create an object of class C, and with the help of the object, call\n",
    "the get_details()."
   ]
  },
  {
   "cell_type": "code",
   "execution_count": 4,
   "id": "5c3a9302-ca15-4e3c-b723-d0afab22f6b2",
   "metadata": {},
   "outputs": [],
   "source": [
    "class A:\n",
    "    def __init__(self, name, age):\n",
    "        global name_global_A, age_global_A\n",
    "        name_global_A = name\n",
    "        age_global_A = age\n",
    "    \n",
    "    def details(self):\n",
    "        return name_global_A\n"
   ]
  },
  {
   "cell_type": "code",
   "execution_count": 5,
   "id": "b1226ae9-805f-4fea-aa0a-33345ecde859",
   "metadata": {},
   "outputs": [],
   "source": [
    "class B:\n",
    "    def __init__(self, name, id):\n",
    "        global name_global_B, id_global_B\n",
    "        name_global_B = name\n",
    "        id_global_B = id\n",
    "    \n",
    "    def details(self):\n",
    "        return name_global_B\n"
   ]
  },
  {
   "cell_type": "code",
   "execution_count": 6,
   "id": "0ae2cf70-2e65-4c56-9f80-4a08b454f59f",
   "metadata": {},
   "outputs": [],
   "source": [
    "class C(A, B):\n",
    "    def __init__(self, name_A, age_A, name_B, id_B):\n",
    "        A.__init__(self, name_A, age_A)\n",
    "        \n",
    "        B.__init__(self, name_B, id_B)\n",
    "    \n",
    "    def get_details(self):\n",
    "        return self.details()\n"
   ]
  },
  {
   "cell_type": "code",
   "execution_count": 8,
   "id": "584e94b7-5810-43de-bc09-a3f867088cd0",
   "metadata": {},
   "outputs": [
    {
     "name": "stdout",
     "output_type": "stream",
     "text": [
      "Details from class C: Alice\n"
     ]
    }
   ],
   "source": [
    "\n",
    "obj_C = C(\"Alice\", 30, \"Bob\", 101)\n",
    "print(\"Details from class C:\", obj_C.get_details())\n"
   ]
  },
  {
   "cell_type": "raw",
   "id": "83f28aef-9eaa-482c-8e20-ca212238aaf0",
   "metadata": {},
   "source": [
    "3. Create a class named ‘Sub1’, inside the class, generate a user defined\n",
    "function named ‘first’ and inside the function, pass the following statement\n",
    "in the print()- ‘This is the first function from Sub 1 class’.\n",
    "a. Now create another class named ‘Sub2’, and inside the class, create a\n",
    "function named ‘second’, and pass the following message in the print()-\n",
    "‘This is the second function from the Sub 2 class’.\n",
    "b. After that, create another class named ‘Super’ and inside that class,\n",
    "create a method named ‘final’, and pass the below message in the print()-\n",
    "‘This is the final method from the super class’.\n",
    "c. Now, create an object for the Super class and call all the 3 user defined\n",
    "methods, i.e., first(), second(), and final()."
   ]
  },
  {
   "cell_type": "code",
   "execution_count": 9,
   "id": "c6de9c3a-147e-4a04-ae5a-23917a0d83bf",
   "metadata": {},
   "outputs": [],
   "source": [
    "class Sub1:\n",
    "    def first(self):\n",
    "        print(\"This is the first function from Sub 1 class\")\n"
   ]
  },
  {
   "cell_type": "code",
   "execution_count": 10,
   "id": "bdff8b43-f3cd-4ed9-af98-566681f3005f",
   "metadata": {},
   "outputs": [],
   "source": [
    "class Sub2:\n",
    "    def second(self):\n",
    "        print(\"This is the second function from the Sub 2 class\")"
   ]
  },
  {
   "cell_type": "code",
   "execution_count": 11,
   "id": "98a6da56-9af9-4147-8e8a-994e0cc23b4d",
   "metadata": {},
   "outputs": [],
   "source": [
    "class Super:\n",
    "    def final(self):\n",
    "        print(\"This is the final method from the super class\")"
   ]
  },
  {
   "cell_type": "code",
   "execution_count": 12,
   "id": "ecf2b799-79dd-4bc4-9a97-d594dbada5d1",
   "metadata": {},
   "outputs": [
    {
     "name": "stdout",
     "output_type": "stream",
     "text": [
      "This is the final method from the super class\n"
     ]
    }
   ],
   "source": [
    "\n",
    "super_obj = Super()\n",
    "super_obj.final()  \n"
   ]
  },
  {
   "cell_type": "code",
   "execution_count": 13,
   "id": "198b1be2-2571-450d-a9f7-88e329e30b2a",
   "metadata": {},
   "outputs": [
    {
     "name": "stdout",
     "output_type": "stream",
     "text": [
      "This is the first function from Sub 1 class\n"
     ]
    }
   ],
   "source": [
    "sub1_obj = Sub1()\n",
    "sub2_obj = Sub2()\n",
    "\n",
    "sub1_obj.first()"
   ]
  },
  {
   "cell_type": "raw",
   "id": "100d0f5c-f633-423e-b0cb-5c9f2065526d",
   "metadata": {},
   "source": [
    "4. Create a class named ‘Parent’, and inside the class, create a function\n",
    "named ‘fun1’ and pass the following message in the print()- ‘This is the\n",
    "message from the fun1’.\n",
    "a. Now create a class named ‘Child1’ and inside the class, create a\n",
    "method named ‘fun2’ and pass the following message in the print()- ‘This is\n",
    "the message from the fun2’.\n",
    "b. After that, create another class named ‘Child2’ and inside the class,\n",
    "create a method named ‘fun3’ and pass the following message in the\n",
    "print()- ‘This is the message from the fun3’.\n",
    "c. Now, create an object of Child2 class and with the help of the object, call\n",
    "the ‘fun1’ method from the ‘Parent’ class.\n"
   ]
  },
  {
   "cell_type": "code",
   "execution_count": 15,
   "id": "a55f1333-1d76-43bf-a4ad-97e906fc01f4",
   "metadata": {},
   "outputs": [],
   "source": [
    "class Parent:\n",
    "    def fun1(self):\n",
    "        print(\"This is the message from the fun1\")\n"
   ]
  },
  {
   "cell_type": "code",
   "execution_count": 16,
   "id": "4f24eaa3-4eb8-4f35-bfd4-6aeada2ae7a3",
   "metadata": {},
   "outputs": [],
   "source": [
    "class Child1:\n",
    "    def fun2(self):\n",
    "        print(\"This is the message from the fun2\")\n"
   ]
  },
  {
   "cell_type": "code",
   "execution_count": 17,
   "id": "b3106067-f14e-488b-b8e3-797123cb7fd8",
   "metadata": {},
   "outputs": [],
   "source": [
    "class Child2:\n",
    "    def fun3(self):\n",
    "        print(\"This is the message from the fun3\")\n"
   ]
  },
  {
   "cell_type": "code",
   "execution_count": 18,
   "id": "0f53215e-db63-4706-893a-8f6b003d6f3e",
   "metadata": {},
   "outputs": [
    {
     "name": "stdout",
     "output_type": "stream",
     "text": [
      "This is the message from the fun1\n"
     ]
    }
   ],
   "source": [
    "\n",
    "child2_obj = Child2()\n",
    "\n",
    "parent_obj = Parent()\n",
    "parent_obj.fun1()\n"
   ]
  },
  {
   "cell_type": "raw",
   "id": "d9e358d2-f4f9-4962-8291-19540774d2ae",
   "metadata": {},
   "source": [
    "5. Create a class named ‘Parent’, and inside the class, create a function\n",
    "named ‘fun1’ and pass the following message in the print()- ‘This is the\n",
    "message from the fun1’.\n",
    "a. Now create a class named ‘Child’ and inside the class, create a method\n",
    "named ‘fun2’ and pass the following message in the print()- ‘This is the\n",
    "message from the fun2’.\n",
    "b. After that, create another class named ‘Hybrid’ and inside the class,\n",
    "create a method named ‘fun3’ and pass the following message in the\n",
    "print()- ‘This is the message from the fun3’.\n",
    "c. Now create an object of Hybrid class and with the help of the object, call\n",
    "the ‘fun1’, ‘fun2’ and ‘fun3’ methods."
   ]
  },
  {
   "cell_type": "code",
   "execution_count": 6,
   "id": "5f5abcfc-0ff5-451a-8974-305e7c033319",
   "metadata": {},
   "outputs": [],
   "source": [
    "class Parent:\n",
    "    def fun1(self):\n",
    "        print(\"This is the message from the fun1\")\n"
   ]
  },
  {
   "cell_type": "code",
   "execution_count": 5,
   "id": "ab587167-1990-49ef-8c0d-c2113e87da03",
   "metadata": {},
   "outputs": [],
   "source": [
    "class Child:\n",
    "    def fun2(self):\n",
    "        print(\"This is the message from the fun2\")\n"
   ]
  },
  {
   "cell_type": "code",
   "execution_count": 18,
   "id": "d8153201-38dc-498d-a202-cc28744f4fda",
   "metadata": {},
   "outputs": [],
   "source": [
    "class Hybrid(Parent,Child):\n",
    "    def fun3(self):\n",
    "        print(\"This is the message from the fun3\")\n"
   ]
  },
  {
   "cell_type": "code",
   "execution_count": 19,
   "id": "1962bf04-4a87-45f8-a680-149a941acacc",
   "metadata": {},
   "outputs": [
    {
     "name": "stdout",
     "output_type": "stream",
     "text": [
      "This is the message from the fun1\n",
      "This is the message from the fun2\n",
      "This is the message from the fun3\n"
     ]
    }
   ],
   "source": [
    "\n",
    "hybrid_obj = Hybrid()\n",
    "\n",
    "hybrid_obj.fun1()\n",
    "hybrid_obj.fun2()\n",
    "hybrid_obj.fun3()\n",
    "\n"
   ]
  },
  {
   "cell_type": "code",
   "execution_count": 22,
   "id": "d7be28c8-fe1f-41c4-999d-d8470dc1a595",
   "metadata": {},
   "outputs": [],
   "source": []
  },
  {
   "cell_type": "raw",
   "id": "ca56fe29-2354-4644-bc04-9edd3d8e7a21",
   "metadata": {},
   "source": []
  },
  {
   "cell_type": "code",
   "execution_count": null,
   "id": "0ff53bd6-92db-4223-be75-d9a7b7fbab63",
   "metadata": {},
   "outputs": [],
   "source": []
  }
 ],
 "metadata": {
  "kernelspec": {
   "display_name": "Python 3 (ipykernel)",
   "language": "python",
   "name": "python3"
  },
  "language_info": {
   "codemirror_mode": {
    "name": "ipython",
    "version": 3
   },
   "file_extension": ".py",
   "mimetype": "text/x-python",
   "name": "python",
   "nbconvert_exporter": "python",
   "pygments_lexer": "ipython3",
   "version": "3.11.7"
  }
 },
 "nbformat": 4,
 "nbformat_minor": 5
}
