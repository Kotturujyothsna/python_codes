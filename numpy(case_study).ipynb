{
 "cells": [
  {
   "cell_type": "raw",
   "id": "45b79550-6654-4dba-a638-3287968086d1",
   "metadata": {},
   "source": [
    "NUMPY ASSIGNMENT-----2"
   ]
  },
  {
   "cell_type": "code",
   "execution_count": 4,
   "id": "05eeb66b-cfbd-4da9-8064-2580f146136c",
   "metadata": {},
   "outputs": [],
   "source": [
    "import numpy as np"
   ]
  },
  {
   "cell_type": "raw",
   "id": "ec8b0beb-777a-4a80-aed7-9f6c7fcbc36e",
   "metadata": {},
   "source": [
    "Create a function that takes dimensions as tuples e.g. (3, 3) and a numeric\n",
    "value and returns a NumPy array of the given dimension filled with the\n",
    "given value e.g.: solve((3, 3), 5) will return\n",
    "[\n",
    "[5, 5, 5],\n",
    "[5, 5, 5],\n",
    "[5, 5, 5]\n",
    "]"
   ]
  },
  {
   "cell_type": "code",
   "execution_count": 15,
   "id": "c150f0cd-8684-4d3c-8611-a8762078c703",
   "metadata": {},
   "outputs": [],
   "source": [
    "num1=np.full((3,3),5)"
   ]
  },
  {
   "cell_type": "code",
   "execution_count": 16,
   "id": "91ec3c5a-0858-428c-a4d9-8ebfc0c28fd5",
   "metadata": {},
   "outputs": [
    {
     "data": {
      "text/plain": [
       "array([[5, 5, 5],\n",
       "       [5, 5, 5],\n",
       "       [5, 5, 5]])"
      ]
     },
     "execution_count": 16,
     "metadata": {},
     "output_type": "execute_result"
    }
   ],
   "source": [
    "num1"
   ]
  },
  {
   "cell_type": "raw",
   "id": "a8c4e3a0-1478-4b67-a22d-c5638922a8cf",
   "metadata": {},
   "source": [
    "Create a method that takes n NumPy arrays of the same dimensions,\n",
    "sums them and returns the answer."
   ]
  },
  {
   "cell_type": "code",
   "execution_count": 1,
   "id": "8574091a-f9e0-4bfc-b408-4d5016d2d703",
   "metadata": {},
   "outputs": [
    {
     "name": "stdout",
     "output_type": "stream",
     "text": [
      "Sum of arrays:\n",
      "[[ 6.  9. 12.]\n",
      " [15. 18. 21.]]\n"
     ]
    }
   ],
   "source": [
    "import numpy as np\n",
    "\n",
    "def sum_arrays(arrays):\n",
    "    shape = arrays[0].shape\n",
    "    for arr in arrays[1:]:\n",
    "        if arr.shape != shape:\n",
    "            raise ValueError(\"All arrays must have the same dimensions\")\n",
    "    \n",
    "    result = np.zeros(shape)\n",
    "    for arr in arrays:\n",
    "        result += arr\n",
    "    \n",
    "    return result\n",
    "\n",
    "array1 = np.array([[1, 2, 3], [4, 5, 6]])\n",
    "array2 = np.array([[2, 3, 4], [5, 6, 7]])\n",
    "array3 = np.array([[3, 4, 5], [6, 7, 8]])\n",
    "\n",
    "result = sum_arrays([array1, array2, array3])\n",
    "print(\"Sum of arrays:\")\n",
    "print(result)\n"
   ]
  },
  {
   "cell_type": "raw",
   "id": "6d7d4c80-8089-48e5-a2b9-43e1a951ad9e",
   "metadata": {},
   "source": [
    "3. Given a 2 D Array of N X M Dimension, write a function that accepts this\n",
    "array as well as two numbers N and M. The method should return the\n",
    "top-left N X M sub matrix, e.g:\n",
    "[\n",
    "[1, 2, 3],\n",
    "[4, 5, 6],\n",
    "[7, 8, 9],\n",
    "]\n",
    "top_left_sub_matrix (matrix, 2, 2) -> should return:\n",
    "[\n",
    "[1, 2]\n",
    "[4, 5]\n",
    "]"
   ]
  },
  {
   "cell_type": "code",
   "execution_count": 3,
   "id": "edef7eb1-7757-4bf8-9a8b-75e95f90e5c0",
   "metadata": {},
   "outputs": [
    {
     "name": "stdout",
     "output_type": "stream",
     "text": [
      "2x2 Sub-matrix:\n",
      "[1, 2]\n",
      "[4, 5]\n"
     ]
    }
   ],
   "source": [
    "\n",
    "def top_left_sub_matrix(matrix, N, M):\n",
    "   \n",
    "    if len(matrix) < N or len(matrix[0]) < M:\n",
    "        raise ValueError(\"Matrix dimensions are smaller than specified sub-matrix size\")\n",
    "\n",
    "    sub_matrix = [row[:M] for row in matrix[:N]]\n",
    "    \n",
    "    return sub_matrix\n",
    "\n",
    "matrix = [\n",
    "    [1, 2, 3, 4],\n",
    "    [4, 5, 6, 7],\n",
    "    [7, 8, 9, 10]\n",
    "]\n",
    "\n",
    "N = 2\n",
    "M = 2\n",
    "\n",
    "result = top_left_sub_matrix(matrix, N, M)\n",
    "print(f\"{N}x{M} Sub-matrix:\")\n",
    "for row in result:\n",
    "    print(row)\n",
    "\n"
   ]
  },
  {
   "cell_type": "raw",
   "id": "1229fc7a-21cd-4908-8716-2515bf560d94",
   "metadata": {},
   "source": [
    "4. Given a 2 D Array of N X M Dimension, write a function that accepts this\n",
    "array as well as two numbers N and M. The method should return the\n",
    "bottom-right N X M sub matrix, e.g:\n",
    "[\n",
    "[1, 2, 3],\n",
    "[4, 5, 6],\n",
    "[7, 8, 9],\n",
    "]\n",
    "sub_matrix(matrix, 1, 1) -> should return : (Keep in mind these arrays are\n",
    "zero indexed)\n",
    "[\n",
    "[5, 6]\n",
    "[8, 9]\n",
    "]\n"
   ]
  },
  {
   "cell_type": "code",
   "execution_count": 4,
   "id": "06764048-8a65-4df7-a3d8-21dd47ce0f9d",
   "metadata": {},
   "outputs": [
    {
     "name": "stdout",
     "output_type": "stream",
     "text": [
      "2x2 Sub-matrix:\n",
      "[5, 6]\n",
      "[8, 9]\n"
     ]
    }
   ],
   "source": [
    "def sub_matrix(matrix, N, M):\n",
    "\n",
    "    if len(matrix) < N or len(matrix[0]) < M:\n",
    "        raise ValueError(\"Matrix dimensions are smaller than specified sub-matrix size\")\n",
    "    \n",
    "    start_row = len(matrix) - N\n",
    "    start_col = len(matrix[0]) - M\n",
    "    \n",
    "   \n",
    "    sub_matrix = [row[start_col:start_col+M] for row in matrix[start_row:start_row+N]]\n",
    "    \n",
    "    return sub_matrix\n",
    "\n",
    "matrix = [\n",
    "    [1, 2, 3],\n",
    "    [4, 5, 6],\n",
    "    [7, 8, 9]\n",
    "]\n",
    "\n",
    "N = 2\n",
    "M = 2\n",
    "\n",
    "result = sub_matrix(matrix, N, M)\n",
    "print(f\"{N}x{M} Sub-matrix:\")\n",
    "for row in result:\n",
    "    print(row)\n"
   ]
  },
  {
   "cell_type": "raw",
   "id": "e4128ae6-b8eb-4d44-8181-f725863e3561",
   "metadata": {},
   "source": [
    "5. Given a 1 D NumPy Array. Write a function that accepts this array as\n",
    "parameters. The method should return a dictionary with 'mean' and\n",
    "'std_dev' as key and array's mean and array's standard deviation as\n",
    "values:\n",
    "[1, 1, 1]\n",
    "solution(arr) -> should return :\n",
    "{'mean': 1.0, 'std_dev': 0.0}"
   ]
  },
  {
   "cell_type": "code",
   "execution_count": 5,
   "id": "c4ebe786-839a-445d-ae45-adc2cd76d94b",
   "metadata": {},
   "outputs": [
    {
     "name": "stdout",
     "output_type": "stream",
     "text": [
      "{'mean': 1.0, 'std_dev': 0.0}\n"
     ]
    }
   ],
   "source": [
    "import numpy as np\n",
    "\n",
    "def solution(arr):\n",
    "    mean_value = np.mean(arr)\n",
    "    std_deviation = np.std(arr)\n",
    "    \n",
    "    result_dict = {\n",
    "        'mean': mean_value,\n",
    "        'std_dev': std_deviation\n",
    "    }\n",
    "    \n",
    "    return result_dict\n",
    "\n",
    "arr = np.array([1, 1, 1])\n",
    "result = solution(arr)\n",
    "print(result)\n"
   ]
  },
  {
   "cell_type": "code",
   "execution_count": null,
   "id": "14027ddd-9684-4825-93f3-e95c471043ab",
   "metadata": {},
   "outputs": [],
   "source": []
  }
 ],
 "metadata": {
  "kernelspec": {
   "display_name": "Python 3 (ipykernel)",
   "language": "python",
   "name": "python3"
  },
  "language_info": {
   "codemirror_mode": {
    "name": "ipython",
    "version": 3
   },
   "file_extension": ".py",
   "mimetype": "text/x-python",
   "name": "python",
   "nbconvert_exporter": "python",
   "pygments_lexer": "ipython3",
   "version": "3.11.7"
  }
 },
 "nbformat": 4,
 "nbformat_minor": 5
}
