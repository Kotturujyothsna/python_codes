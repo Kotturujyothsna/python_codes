{
 "cells": [
  {
   "cell_type": "raw",
   "id": "2ec82019-7d64-46bf-a88b-99f4fae11817",
   "metadata": {},
   "source": [
    "NUMPY ASSIGNMENTS"
   ]
  },
  {
   "cell_type": "code",
   "execution_count": 1,
   "id": "2303bd9c-f29e-41c5-aab0-f2aca8535738",
   "metadata": {},
   "outputs": [],
   "source": [
    "import numpy as np"
   ]
  },
  {
   "cell_type": "raw",
   "id": "8178308c-8a0c-43d7-a7e6-6876d567d19d",
   "metadata": {},
   "source": [
    "Create a 3x3 matrix array with values ranging from 2 to 10"
   ]
  },
  {
   "cell_type": "code",
   "execution_count": 5,
   "id": "c735b61a-8267-4c30-967d-751d965f136a",
   "metadata": {},
   "outputs": [],
   "source": [
    "arr=np.array([[[2,3,4],[5,6,7],[8,9,10]]])"
   ]
  },
  {
   "cell_type": "code",
   "execution_count": 6,
   "id": "6d1118d7-72f7-42a3-acda-da0c28bc4e82",
   "metadata": {},
   "outputs": [
    {
     "data": {
      "text/plain": [
       "array([[[ 2,  3,  4],\n",
       "        [ 5,  6,  7],\n",
       "        [ 8,  9, 10]]])"
      ]
     },
     "execution_count": 6,
     "metadata": {},
     "output_type": "execute_result"
    }
   ],
   "source": [
    "arr"
   ]
  },
  {
   "cell_type": "raw",
   "id": "c2c215ab-a33a-4284-814b-00ab1b3eed2a",
   "metadata": {},
   "source": [
    "Create a NumPy array having user input values and convert the integer\n",
    "type to the float type of the elements of the array. For instance: Original\n",
    "array [1, 2, 3, 4] Array converted to a float type: [ 1. 2. 3. 4.]"
   ]
  },
  {
   "cell_type": "code",
   "execution_count": 11,
   "id": "6672a534-0eaa-46c1-9a36-e7a21e7c1e25",
   "metadata": {},
   "outputs": [],
   "source": [
    "arr2=np.array([1, 2, 3, 4])"
   ]
  },
  {
   "cell_type": "code",
   "execution_count": 13,
   "id": "c1672995-2821-4b00-9a06-d2582129ba7e",
   "metadata": {},
   "outputs": [
    {
     "data": {
      "text/plain": [
       "dtype('int32')"
      ]
     },
     "execution_count": 13,
     "metadata": {},
     "output_type": "execute_result"
    }
   ],
   "source": [
    "arr2.dtype"
   ]
  },
  {
   "cell_type": "code",
   "execution_count": 15,
   "id": "7ac348cf-71c5-4ddb-95ca-58f64155901e",
   "metadata": {},
   "outputs": [],
   "source": [
    "arr2=np.array([1, 2, 3, 4],float)"
   ]
  },
  {
   "cell_type": "code",
   "execution_count": 16,
   "id": "04753d25-f770-4564-80be-8096f8222d4c",
   "metadata": {},
   "outputs": [
    {
     "data": {
      "text/plain": [
       "dtype('float64')"
      ]
     },
     "execution_count": 16,
     "metadata": {},
     "output_type": "execute_result"
    }
   ],
   "source": [
    "arr2.dtype"
   ]
  },
  {
   "cell_type": "raw",
   "id": "ec070427-fca1-47a3-876e-b083ecf5cc9c",
   "metadata": {},
   "source": [
    "Write a NumPy program to append values to the end of an array. For\n",
    "instance: Original array: [10, 20, 30] . After that, append values to the end\n",
    "of the array: [10 20 30 40 50 60 70 80 90]"
   ]
  },
  {
   "cell_type": "code",
   "execution_count": 4,
   "id": "3fe85559-8c68-48e1-bb7b-91c1fc0ab5ec",
   "metadata": {},
   "outputs": [],
   "source": [
    "import numpy as np"
   ]
  },
  {
   "cell_type": "code",
   "execution_count": 5,
   "id": "c0026dd4-fdf9-46b8-9ee1-9427c3c4f759",
   "metadata": {},
   "outputs": [],
   "source": [
    "arr3=np. array([10, 20, 30])"
   ]
  },
  {
   "cell_type": "code",
   "execution_count": 6,
   "id": "e2f5bc79-6b99-40f7-9ae7-161e509ce34c",
   "metadata": {},
   "outputs": [
    {
     "data": {
      "text/plain": [
       "array([10, 20, 30])"
      ]
     },
     "execution_count": 6,
     "metadata": {},
     "output_type": "execute_result"
    }
   ],
   "source": [
    "arr3"
   ]
  },
  {
   "cell_type": "code",
   "execution_count": 8,
   "id": "b7e2f89c-cf5f-42a7-8060-e9904e8bd7a8",
   "metadata": {},
   "outputs": [],
   "source": [
    "arr3=np.append(arr3,(40,50,60,70,80,90))"
   ]
  },
  {
   "cell_type": "code",
   "execution_count": 9,
   "id": "061f33a4-edd2-4ee5-88cd-7706d9632252",
   "metadata": {},
   "outputs": [
    {
     "data": {
      "text/plain": [
       "array([10, 20, 30, 40, 50, 60, 70, 80, 90])"
      ]
     },
     "execution_count": 9,
     "metadata": {},
     "output_type": "execute_result"
    }
   ],
   "source": [
    "arr3"
   ]
  },
  {
   "cell_type": "code",
   "execution_count": null,
   "id": "a255db35-39c5-44ae-bf16-8110d7670039",
   "metadata": {},
   "outputs": [],
   "source": []
  },
  {
   "cell_type": "raw",
   "id": "2098d111-3ba6-4186-89a7-f3b5ec539de6",
   "metadata": {},
   "source": [
    "Create two NumPy arrays and add the elements of both the arrays and\n",
    "store the result in sumArray"
   ]
  },
  {
   "cell_type": "code",
   "execution_count": 33,
   "id": "c8fa819f-2e76-4eea-aab5-dd5f4513d928",
   "metadata": {},
   "outputs": [],
   "source": [
    "arr1=np.array([[1,2,3]])\n",
    "arr2=np.array([[1,2,3]])"
   ]
  },
  {
   "cell_type": "code",
   "execution_count": 38,
   "id": "b40b3122-b51b-4490-8682-914db7035c17",
   "metadata": {},
   "outputs": [],
   "source": [
    "s=np.sum([[arr1],[arr2]],axis=0)"
   ]
  },
  {
   "cell_type": "code",
   "execution_count": 40,
   "id": "eeeea600-c4f5-4213-8261-931d1eca6f1d",
   "metadata": {},
   "outputs": [
    {
     "data": {
      "text/plain": [
       "array([[[2, 4, 6]]])"
      ]
     },
     "execution_count": 40,
     "metadata": {},
     "output_type": "execute_result"
    }
   ],
   "source": [
    "s"
   ]
  },
  {
   "cell_type": "raw",
   "id": "c4da4dbd-aa9f-43e0-a78d-cbc2ccdd40d6",
   "metadata": {},
   "source": [
    "Create a 3x3 array having values from 10-90 (interval of 10) and store that\n",
    "in array1\n",
    "Perform the following tasks:\n",
    "a. Extract the 1st row from the array\n",
    "b. Extract the last element from the array"
   ]
  },
  {
   "cell_type": "code",
   "execution_count": 42,
   "id": "337de2b4-b6fe-4dc6-a280-f0f6ce5065a4",
   "metadata": {},
   "outputs": [],
   "source": [
    "array1=np.array([[[10,20,30],[40,50,60],[70,80,90]]])"
   ]
  },
  {
   "cell_type": "code",
   "execution_count": 43,
   "id": "9372fdc6-e2ed-41b1-bdac-da19e56c4c80",
   "metadata": {},
   "outputs": [
    {
     "data": {
      "text/plain": [
       "array([[[10, 20, 30],\n",
       "        [40, 50, 60],\n",
       "        [70, 80, 90]]])"
      ]
     },
     "execution_count": 43,
     "metadata": {},
     "output_type": "execute_result"
    }
   ],
   "source": [
    "array1"
   ]
  },
  {
   "cell_type": "code",
   "execution_count": 54,
   "id": "bb37ab6f-a80b-4788-9e09-164d7059e840",
   "metadata": {},
   "outputs": [],
   "source": [
    "x = array1[0,0]"
   ]
  },
  {
   "cell_type": "code",
   "execution_count": 55,
   "id": "4b88a5d2-8717-4a6c-a023-d04ed9f5c9ee",
   "metadata": {},
   "outputs": [
    {
     "data": {
      "text/plain": [
       "array([10, 20, 30])"
      ]
     },
     "execution_count": 55,
     "metadata": {},
     "output_type": "execute_result"
    }
   ],
   "source": [
    "x"
   ]
  },
  {
   "cell_type": "code",
   "execution_count": null,
   "id": "a387c94a-edba-4e13-b1f9-c19e01177a38",
   "metadata": {},
   "outputs": [],
   "source": [
    "y=array1[0,1]"
   ]
  }
 ],
 "metadata": {
  "kernelspec": {
   "display_name": "Python 3 (ipykernel)",
   "language": "python",
   "name": "python3"
  },
  "language_info": {
   "codemirror_mode": {
    "name": "ipython",
    "version": 3
   },
   "file_extension": ".py",
   "mimetype": "text/x-python",
   "name": "python",
   "nbconvert_exporter": "python",
   "pygments_lexer": "ipython3",
   "version": "3.11.7"
  }
 },
 "nbformat": 4,
 "nbformat_minor": 5
}
