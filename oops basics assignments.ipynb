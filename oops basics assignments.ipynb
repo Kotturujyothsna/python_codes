{
 "cells": [
  {
   "cell_type": "markdown",
   "id": "28c76dbf-db2c-48c5-906e-b4e85519b6a5",
   "metadata": {},
   "source": [
    "getting starting with the python- Module 1"
   ]
  },
  {
   "cell_type": "markdown",
   "id": "04d8042d-007e-47ec-b853-3e0ec040baf1",
   "metadata": {},
   "source": [
    "#assignment 1"
   ]
  },
  {
   "cell_type": "code",
   "execution_count": 8,
   "id": "49770baf-5d21-4152-a3bf-6c68ff430696",
   "metadata": {
    "scrolled": true
   },
   "outputs": [
    {
     "name": "stdout",
     "output_type": "stream",
     "text": [
      "b is greater number\n"
     ]
    }
   ],
   "source": [
    "a=10 \n",
    "b=20\n",
    "if a>b :\n",
    "    print(\"a is greater number\")\n",
    "else:\n",
    "    print(\"b is greater number\")\n",
    "    \n"
   ]
  },
  {
   "cell_type": "markdown",
   "id": "f9f1e549-5b12-4618-a28a-c7181ac6cf32",
   "metadata": {},
   "source": [
    "#assignment 2"
   ]
  },
  {
   "cell_type": "code",
   "execution_count": 25,
   "id": "82d23358-a730-4f96-8df0-caa3e86686cc",
   "metadata": {},
   "outputs": [
    {
     "name": "stdin",
     "output_type": "stream",
     "text": [
      "enter the first number: 2\n",
      "enter the second number: 4\n",
      "enter the third number: 6\n"
     ]
    },
    {
     "name": "stdout",
     "output_type": "stream",
     "text": [
      "the greatest value among three is : 6\n"
     ]
    }
   ],
   "source": [
    "a=int(input(\"enter the first number:\"))\n",
    "b=int(input(\"enter the second number:\"))\n",
    "c=int(input(\"enter the third number:\"))\n",
    "if a>b and a>c:\n",
    "    print (\"the greatest value among three is :\",a)\n",
    "elif b>c and b>a:\n",
    "    print (\"the greatest value among three is :\",b)\n",
    "elif c>a and c>b:\n",
    "    print (\"the greatest value among three is :\",c)\n",
    "    \n",
    "    "
   ]
  },
  {
   "cell_type": "markdown",
   "id": "a7383318-ab94-42a4-a939-b91b8eda1781",
   "metadata": {},
   "source": [
    "#assignment 3"
   ]
  },
  {
   "cell_type": "code",
   "execution_count": 1,
   "id": "8c528807-4ca4-475a-b04e-076553dbdb56",
   "metadata": {},
   "outputs": [
    {
     "name": "stdout",
     "output_type": "stream",
     "text": [
      "1\n",
      "2\n",
      "3\n",
      "4\n",
      "5\n",
      "6\n",
      "7\n",
      "8\n",
      "9\n",
      "10\n"
     ]
    }
   ],
   "source": [
    "i=1\n",
    "while i<11:\n",
    "    print(i)\n",
    "    i+=1"
   ]
  },
  {
   "cell_type": "markdown",
   "id": "99c011c1-7e02-4daf-99c3-da3a8387dd3f",
   "metadata": {},
   "source": [
    "#assignment4"
   ]
  },
  {
   "cell_type": "code",
   "execution_count": 26,
   "id": "838d9131-b514-4dec-9ffe-ad34d76eb193",
   "metadata": {},
   "outputs": [
    {
     "name": "stdout",
     "output_type": "stream",
     "text": [
      "10 4 26 4 24 54 "
     ]
    }
   ],
   "source": [
    "\n",
    "list1 = [10, 23, 4, 26, 4, 75,24,54]\n",
    "num = 0\n",
    "while(num < len(list1)):\n",
    "\tif list1[num] % 2 == 0:\n",
    "\t\tprint(list1[num], end=\" \")\n",
    "\tnum += 1\n"
   ]
  },
  {
   "cell_type": "markdown",
   "id": "836bf625-c6f3-4356-8eec-44c610e28aac",
   "metadata": {},
   "source": [
    "#assignment 5"
   ]
  },
  {
   "cell_type": "code",
   "execution_count": null,
   "id": "2e597029-dab7-4b2c-8c90-0c598756eaa6",
   "metadata": {},
   "outputs": [
    {
     "name": "stdout",
     "output_type": "stream",
     "text": [
      "prime numbers are: 3 prime numbers are: 5 "
     ]
    }
   ],
   "source": [
    "list1 = [3,5,10, 23, 4, 26, 4, 75,24,54]\n",
    "num = 0\n",
    "while(num < len(list1)):\n",
    "    if list1[num] % 2 != 0:\n",
    "        print(\"prime numbers are:\",list1[num], end=\" \")\n",
    "        num += 1"
   ]
  },
  {
   "cell_type": "code",
   "execution_count": null,
   "id": "afcd83ec-5324-49b0-b279-b1640ce843d0",
   "metadata": {},
   "outputs": [],
   "source": []
  },
  {
   "cell_type": "code",
   "execution_count": null,
   "id": "22d4c91f-8480-4d34-959f-bb1025afc148",
   "metadata": {},
   "outputs": [],
   "source": []
  }
 ],
 "metadata": {
  "kernelspec": {
   "display_name": "Python 3 (ipykernel)",
   "language": "python",
   "name": "python3"
  },
  "language_info": {
   "codemirror_mode": {
    "name": "ipython",
    "version": 3
   },
   "file_extension": ".py",
   "mimetype": "text/x-python",
   "name": "python",
   "nbconvert_exporter": "python",
   "pygments_lexer": "ipython3",
   "version": "3.11.7"
  }
 },
 "nbformat": 4,
 "nbformat_minor": 5
}
