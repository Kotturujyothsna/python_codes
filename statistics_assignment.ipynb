{
 "cells": [
  {
   "cell_type": "raw",
   "id": "90bf4add-a99a-4465-a63c-ffc8a34a71f2",
   "metadata": {},
   "source": [
    "Tasks To Be Performed:\n",
    "1. Create a table in excel, table should have 2 columns named x and y:\n",
    "a. ‘x’ column should have numbers from 1-5\n",
    "b. ‘y’ should have numbers 2, 4, 5, 4, 2\n",
    "c. Now calculate the mean of columns x and y\n",
    "d. Calculate the mode of column x\n",
    "e. Calculate the standard deviation of column y\n",
    "f. At last calculate the range of columns x and y saperately"
   ]
  },
  {
   "cell_type": "code",
   "execution_count": 1,
   "id": "e14bd2ea-9c99-4e18-9a8e-37640921722e",
   "metadata": {},
   "outputs": [],
   "source": [
    "import pandas as pd\n",
    "import numpy as np\n",
    "from scipy import stats\n",
    "\n",
    "data = {\n",
    "    'x': [1, 2, 3, 4, 5],\n",
    "    'y': [2, 4, 5, 4, 2]\n",
    "}\n",
    "\n",
    "df = pd.DataFrame(data)\n",
    "\n"
   ]
  },
  {
   "cell_type": "code",
   "execution_count": 2,
   "id": "bd39c791-238b-46cb-a1d9-667e1e6e12f0",
   "metadata": {},
   "outputs": [
    {
     "data": {
      "text/html": [
       "<div>\n",
       "<style scoped>\n",
       "    .dataframe tbody tr th:only-of-type {\n",
       "        vertical-align: middle;\n",
       "    }\n",
       "\n",
       "    .dataframe tbody tr th {\n",
       "        vertical-align: top;\n",
       "    }\n",
       "\n",
       "    .dataframe thead th {\n",
       "        text-align: right;\n",
       "    }\n",
       "</style>\n",
       "<table border=\"1\" class=\"dataframe\">\n",
       "  <thead>\n",
       "    <tr style=\"text-align: right;\">\n",
       "      <th></th>\n",
       "      <th>x</th>\n",
       "      <th>y</th>\n",
       "    </tr>\n",
       "  </thead>\n",
       "  <tbody>\n",
       "    <tr>\n",
       "      <th>0</th>\n",
       "      <td>1</td>\n",
       "      <td>2</td>\n",
       "    </tr>\n",
       "    <tr>\n",
       "      <th>1</th>\n",
       "      <td>2</td>\n",
       "      <td>4</td>\n",
       "    </tr>\n",
       "    <tr>\n",
       "      <th>2</th>\n",
       "      <td>3</td>\n",
       "      <td>5</td>\n",
       "    </tr>\n",
       "    <tr>\n",
       "      <th>3</th>\n",
       "      <td>4</td>\n",
       "      <td>4</td>\n",
       "    </tr>\n",
       "    <tr>\n",
       "      <th>4</th>\n",
       "      <td>5</td>\n",
       "      <td>2</td>\n",
       "    </tr>\n",
       "  </tbody>\n",
       "</table>\n",
       "</div>"
      ],
      "text/plain": [
       "   x  y\n",
       "0  1  2\n",
       "1  2  4\n",
       "2  3  5\n",
       "3  4  4\n",
       "4  5  2"
      ]
     },
     "execution_count": 2,
     "metadata": {},
     "output_type": "execute_result"
    }
   ],
   "source": [
    "df"
   ]
  },
  {
   "cell_type": "code",
   "execution_count": 3,
   "id": "c1b5979a-9446-4fc8-bf3c-a93ce8072bb8",
   "metadata": {},
   "outputs": [],
   "source": [
    "\n",
    "mean_x = df['x'].mean()\n",
    "mean_y = df['y'].mean()\n",
    "\n"
   ]
  },
  {
   "cell_type": "code",
   "execution_count": 4,
   "id": "93c24d10-6f42-4c09-bc9c-739785cc671b",
   "metadata": {},
   "outputs": [
    {
     "data": {
      "text/plain": [
       "3.0"
      ]
     },
     "execution_count": 4,
     "metadata": {},
     "output_type": "execute_result"
    }
   ],
   "source": [
    "mean_x"
   ]
  },
  {
   "cell_type": "code",
   "execution_count": 5,
   "id": "99d0d5d8-e20d-426e-b53d-e1f16589c8cc",
   "metadata": {},
   "outputs": [
    {
     "data": {
      "text/plain": [
       "3.4"
      ]
     },
     "execution_count": 5,
     "metadata": {},
     "output_type": "execute_result"
    }
   ],
   "source": [
    "mean_y"
   ]
  },
  {
   "cell_type": "code",
   "execution_count": null,
   "id": "b726994a-ffe2-460c-bac7-4a59ab89e095",
   "metadata": {},
   "outputs": [],
   "source": [
    "\n",
    "mode_x = df['x'].mode()[0]  # mode() returns a Series, so take the first element\n",
    "\n",
    "# Step 4: Calculate the standard deviation of column 'y'\n",
    "std_dev_y = df['y'].std()\n",
    "\n",
    "# Print results\n",
    "print(f\"Mean of column x: {mean_x}\")\n",
    "print(f\"Mean of column y: {mean_y}\")\n",
    "print(f\"Mode of column x: {mode_x}\")\n",
    "print(f\"Standard deviation of column y: {std_dev_y}\")\n"
   ]
  }
 ],
 "metadata": {
  "kernelspec": {
   "display_name": "Python 3 (ipykernel)",
   "language": "python",
   "name": "python3"
  },
  "language_info": {
   "codemirror_mode": {
    "name": "ipython",
    "version": 3
   },
   "file_extension": ".py",
   "mimetype": "text/x-python",
   "name": "python",
   "nbconvert_exporter": "python",
   "pygments_lexer": "ipython3",
   "version": "3.11.7"
  }
 },
 "nbformat": 4,
 "nbformat_minor": 5
}
